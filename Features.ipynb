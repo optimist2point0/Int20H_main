{
 "cells": [
  {
   "cell_type": "code",
   "execution_count": 21,
   "id": "43e29b9d-323b-4e25-9a30-b580639a679e",
   "metadata": {},
   "outputs": [],
   "source": [
    "import pandas as pd\n",
    "import numpy as np\n",
    "import matplotlib.pyplot as plt"
   ]
  },
  {
   "cell_type": "code",
   "execution_count": 13,
   "id": "63805f66-5201-4f4f-9f69-740b8f2108e1",
   "metadata": {},
   "outputs": [],
   "source": [
    "orders = pd.read_csv('orders.csv')\n",
    "nodes = pd.read_csv('nodes.csv')\n",
    "orders_kag = pd.read_csv('orders_kag.csv')\n",
    "nodes_kag = pd.read_csv('nodes_kag.csv')\n",
    "test = pd.read_csv('test.csv')"
   ]
  },
  {
   "cell_type": "code",
   "execution_count": 149,
   "id": "c3b2ac1a-63a5-4528-a950-cb2d528be6e9",
   "metadata": {},
   "outputs": [
    {
     "name": "stdout",
     "output_type": "stream",
     "text": [
      "<class 'pandas.core.frame.DataFrame'>\n",
      "RangeIndex: 480291 entries, 0 to 480290\n",
      "Data columns (total 5 columns):\n",
      " #   Column       Non-Null Count   Dtype  \n",
      "---  ------       --------------   -----  \n",
      " 0   Id           480291 non-null  int64  \n",
      " 1   node_start   480291 non-null  int64  \n",
      " 2   node_finish  480291 non-null  int64  \n",
      " 3   distance     480291 non-null  float64\n",
      " 4   speed        476307 non-null  float64\n",
      "dtypes: float64(2), int64(3)\n",
      "memory usage: 18.3 MB\n"
     ]
    }
   ],
   "source": [
    "nodes_kag.info()"
   ]
  },
  {
   "cell_type": "code",
   "execution_count": 81,
   "id": "8a7998d5-65c7-4ce9-964b-51bfd0a12b7d",
   "metadata": {},
   "outputs": [
    {
     "name": "stdout",
     "output_type": "stream",
     "text": [
      "<class 'pandas.core.frame.DataFrame'>\n",
      "RangeIndex: 1000 entries, 0 to 999\n",
      "Data columns (total 3 columns):\n",
      " #   Column             Non-Null Count  Dtype  \n",
      "---  ------             --------------  -----  \n",
      " 0   Id                 1000 non-null   int64  \n",
      " 1   running_time       1000 non-null   object \n",
      " 2   route_distance_km  1000 non-null   float64\n",
      "dtypes: float64(1), int64(1), object(1)\n",
      "memory usage: 23.6+ KB\n"
     ]
    }
   ],
   "source": [
    "test.info()"
   ]
  },
  {
   "cell_type": "code",
   "execution_count": 14,
   "id": "b31c1971-2692-4e4e-b61c-92ff1200ed07",
   "metadata": {},
   "outputs": [],
   "source": [
    "s1 = set(nodes[nodes['Id'] == 5349031716632009753]['node_start'])\n",
    "s2 = set(nodes[nodes['Id'] == 5349031716632009753]['node_finish'])"
   ]
  },
  {
   "cell_type": "code",
   "execution_count": 17,
   "id": "46ccd7a2-47c8-4930-b786-fa8c085f4bd3",
   "metadata": {},
   "outputs": [
    {
     "data": {
      "text/plain": [
       "{289702919, 1977036275, 1977036281}"
      ]
     },
     "execution_count": 17,
     "metadata": {},
     "output_type": "execute_result"
    }
   ],
   "source": [
    "s2 - s1"
   ]
  },
  {
   "cell_type": "code",
   "execution_count": 22,
   "id": "193eb6ef-9c36-4c37-9fe4-6546c5f4f740",
   "metadata": {},
   "outputs": [
    {
     "data": {
      "text/plain": [
       "497.5769769999999"
      ]
     },
     "execution_count": 22,
     "metadata": {},
     "output_type": "execute_result"
    }
   ],
   "source": [
    "sum(nodes[nodes['Id'] == 5349031716632009753]['distance'])"
   ]
  },
  {
   "cell_type": "code",
   "execution_count": 21,
   "id": "2fc391a2-464c-4d80-8a89-857aa1113368",
   "metadata": {},
   "outputs": [
    {
     "data": {
      "text/html": [
       "<div>\n",
       "<style scoped>\n",
       "    .dataframe tbody tr th:only-of-type {\n",
       "        vertical-align: middle;\n",
       "    }\n",
       "\n",
       "    .dataframe tbody tr th {\n",
       "        vertical-align: top;\n",
       "    }\n",
       "\n",
       "    .dataframe thead th {\n",
       "        text-align: right;\n",
       "    }\n",
       "</style>\n",
       "<table border=\"1\" class=\"dataframe\">\n",
       "  <thead>\n",
       "    <tr style=\"text-align: right;\">\n",
       "      <th></th>\n",
       "      <th>Id</th>\n",
       "      <th>running_time</th>\n",
       "      <th>completed_time</th>\n",
       "      <th>route_distance_km</th>\n",
       "      <th>delta_time</th>\n",
       "    </tr>\n",
       "  </thead>\n",
       "  <tbody>\n",
       "    <tr>\n",
       "      <th>9</th>\n",
       "      <td>5349031716632009753</td>\n",
       "      <td>2022-01-24 07:29:34</td>\n",
       "      <td>2022-01-24 07:35:43</td>\n",
       "      <td>1.113</td>\n",
       "      <td>369.0</td>\n",
       "    </tr>\n",
       "  </tbody>\n",
       "</table>\n",
       "</div>"
      ],
      "text/plain": [
       "                    Id         running_time       completed_time  \\\n",
       "9  5349031716632009753  2022-01-24 07:29:34  2022-01-24 07:35:43   \n",
       "\n",
       "   route_distance_km  delta_time  \n",
       "9              1.113       369.0  "
      ]
     },
     "execution_count": 21,
     "metadata": {},
     "output_type": "execute_result"
    }
   ],
   "source": [
    "orders[orders['Id'] == 5349031716632009753]"
   ]
  },
  {
   "cell_type": "code",
   "execution_count": 65,
   "id": "70a1b2ff-9541-4277-b707-a46cf7bec583",
   "metadata": {},
   "outputs": [
    {
     "data": {
      "text/plain": [
       "0      -4773019581999572651\n",
       "1      -7575630690398473489\n",
       "2      -6264582368520213833\n",
       "3       5964315354301636538\n",
       "4       1372379574816145639\n",
       "               ...         \n",
       "4995    7096714159023973792\n",
       "4996   -3836026425968071806\n",
       "4997    2926216435675216636\n",
       "4998   -6677307480063489707\n",
       "4999   -4845695090750648713\n",
       "Name: Id, Length: 5000, dtype: int64"
      ]
     },
     "execution_count": 65,
     "metadata": {},
     "output_type": "execute_result"
    }
   ],
   "source": [
    "orders_kag['Id']"
   ]
  },
  {
   "cell_type": "code",
   "execution_count": 82,
   "id": "79032381-2a76-4e8e-8450-c6cfce9772db",
   "metadata": {},
   "outputs": [
    {
     "data": {
      "text/plain": [
       "0      4567450496676323264\n",
       "1     -1762687449608244695\n",
       "2       558209096572647780\n",
       "3      1091960336272216078\n",
       "4     -1321994599972009663\n",
       "              ...         \n",
       "995   -1019532991501300185\n",
       "996   -3501571252544462083\n",
       "997    8305010046033518305\n",
       "998    5747749188503396733\n",
       "999    8646925889615811725\n",
       "Name: Id, Length: 1000, dtype: int64"
      ]
     },
     "execution_count": 82,
     "metadata": {},
     "output_type": "execute_result"
    }
   ],
   "source": [
    "test['Id']"
   ]
  },
  {
   "cell_type": "code",
   "execution_count": 84,
   "id": "a3998772-8318-4f6a-899f-204490c75554",
   "metadata": {},
   "outputs": [],
   "source": [
    "ID = 4567450496676323264"
   ]
  },
  {
   "cell_type": "code",
   "execution_count": 85,
   "id": "ee1c7acc-db1e-4dbd-b1e4-ce1cdbbcb0bc",
   "metadata": {},
   "outputs": [
    {
     "data": {
      "text/plain": [
       "{710165783, 5983175970}"
      ]
     },
     "execution_count": 85,
     "metadata": {},
     "output_type": "execute_result"
    }
   ],
   "source": [
    "s1 = set(nodes_kag[nodes_kag['Id'] == ID]['node_start'])\n",
    "s2 = set(nodes_kag[nodes_kag['Id'] == ID]['node_finish'])\n",
    "\n",
    "s2 - s1"
   ]
  },
  {
   "cell_type": "code",
   "execution_count": 86,
   "id": "52d00265-24c0-48f1-93ba-bd5ce3050b68",
   "metadata": {},
   "outputs": [
    {
     "data": {
      "text/plain": [
       "2275.576895"
      ]
     },
     "execution_count": 86,
     "metadata": {},
     "output_type": "execute_result"
    }
   ],
   "source": [
    "sum(nodes_kag[nodes_kag['Id'] == ID]['distance'])"
   ]
  },
  {
   "cell_type": "code",
   "execution_count": 88,
   "id": "d78a885f-918b-45e3-93b8-00463e0b6a7e",
   "metadata": {},
   "outputs": [
    {
     "data": {
      "text/html": [
       "<div>\n",
       "<style scoped>\n",
       "    .dataframe tbody tr th:only-of-type {\n",
       "        vertical-align: middle;\n",
       "    }\n",
       "\n",
       "    .dataframe tbody tr th {\n",
       "        vertical-align: top;\n",
       "    }\n",
       "\n",
       "    .dataframe thead th {\n",
       "        text-align: right;\n",
       "    }\n",
       "</style>\n",
       "<table border=\"1\" class=\"dataframe\">\n",
       "  <thead>\n",
       "    <tr style=\"text-align: right;\">\n",
       "      <th></th>\n",
       "      <th>Id</th>\n",
       "      <th>running_time</th>\n",
       "      <th>route_distance_km</th>\n",
       "    </tr>\n",
       "  </thead>\n",
       "  <tbody>\n",
       "    <tr>\n",
       "      <th>0</th>\n",
       "      <td>4567450496676323264</td>\n",
       "      <td>2022-01-24 00:32:37</td>\n",
       "      <td>5.533</td>\n",
       "    </tr>\n",
       "  </tbody>\n",
       "</table>\n",
       "</div>"
      ],
      "text/plain": [
       "                    Id         running_time  route_distance_km\n",
       "0  4567450496676323264  2022-01-24 00:32:37              5.533"
      ]
     },
     "execution_count": 88,
     "metadata": {},
     "output_type": "execute_result"
    }
   ],
   "source": [
    "test[test['Id'] == ID]"
   ]
  },
  {
   "cell_type": "code",
   "execution_count": 87,
   "id": "88510a86-29bb-4c02-992f-adbb37a269f3",
   "metadata": {},
   "outputs": [
    {
     "data": {
      "text/html": [
       "<div>\n",
       "<style scoped>\n",
       "    .dataframe tbody tr th:only-of-type {\n",
       "        vertical-align: middle;\n",
       "    }\n",
       "\n",
       "    .dataframe tbody tr th {\n",
       "        vertical-align: top;\n",
       "    }\n",
       "\n",
       "    .dataframe thead th {\n",
       "        text-align: right;\n",
       "    }\n",
       "</style>\n",
       "<table border=\"1\" class=\"dataframe\">\n",
       "  <thead>\n",
       "    <tr style=\"text-align: right;\">\n",
       "      <th></th>\n",
       "      <th>Id</th>\n",
       "      <th>running_time</th>\n",
       "      <th>completed_time</th>\n",
       "      <th>route_distance_km</th>\n",
       "      <th>delta_time</th>\n",
       "    </tr>\n",
       "  </thead>\n",
       "  <tbody>\n",
       "  </tbody>\n",
       "</table>\n",
       "</div>"
      ],
      "text/plain": [
       "Empty DataFrame\n",
       "Columns: [Id, running_time, completed_time, route_distance_km, delta_time]\n",
       "Index: []"
      ]
     },
     "execution_count": 87,
     "metadata": {},
     "output_type": "execute_result"
    }
   ],
   "source": [
    "orders_kag[orders_kag['Id'] == ID]"
   ]
  },
  {
   "cell_type": "code",
   "execution_count": 92,
   "id": "6f074302-3ab4-45e9-af52-327ff28d57f4",
   "metadata": {},
   "outputs": [
    {
     "data": {
      "text/plain": [
       "5000"
      ]
     },
     "execution_count": 92,
     "metadata": {},
     "output_type": "execute_result"
    }
   ],
   "source": [
    "len(set(orders_kag['Id'])-set(test['Id']))"
   ]
  },
  {
   "cell_type": "markdown",
   "id": "e337717d-bce0-4091-aac2-0efe2020941f",
   "metadata": {},
   "source": [
    "# Features"
   ]
  },
  {
   "cell_type": "code",
   "execution_count": 107,
   "id": "67295b6f-93bc-4b3a-9872-d0a45b241eae",
   "metadata": {},
   "outputs": [],
   "source": [
    "train = orders_kag.copy()"
   ]
  },
  {
   "cell_type": "code",
   "execution_count": 108,
   "id": "1d7c2fc4-3588-4651-81f9-162db231d444",
   "metadata": {},
   "outputs": [],
   "source": [
    "train.drop('completed_time', axis = 1, inplace=True)"
   ]
  },
  {
   "cell_type": "code",
   "execution_count": 109,
   "id": "5ce43248-9057-41e9-b55e-76e1bf4049bb",
   "metadata": {},
   "outputs": [
    {
     "name": "stdout",
     "output_type": "stream",
     "text": [
      "<class 'pandas.core.frame.DataFrame'>\n",
      "RangeIndex: 5000 entries, 0 to 4999\n",
      "Data columns (total 4 columns):\n",
      " #   Column             Non-Null Count  Dtype  \n",
      "---  ------             --------------  -----  \n",
      " 0   Id                 5000 non-null   int64  \n",
      " 1   running_time       5000 non-null   object \n",
      " 2   route_distance_km  5000 non-null   float64\n",
      " 3   delta_time         5000 non-null   float64\n",
      "dtypes: float64(2), int64(1), object(1)\n",
      "memory usage: 156.4+ KB\n"
     ]
    }
   ],
   "source": [
    "train.info()"
   ]
  },
  {
   "cell_type": "code",
   "execution_count": 110,
   "id": "9c7c4d88-f302-4788-9adc-825a90cbad8b",
   "metadata": {},
   "outputs": [],
   "source": [
    "train['running_time'] = pd.to_datetime(train['running_time'])"
   ]
  },
  {
   "cell_type": "code",
   "execution_count": 111,
   "id": "3f6842d9-7572-486e-a9a2-70f8f4015a07",
   "metadata": {},
   "outputs": [
    {
     "name": "stdout",
     "output_type": "stream",
     "text": [
      "<class 'pandas.core.frame.DataFrame'>\n",
      "RangeIndex: 5000 entries, 0 to 4999\n",
      "Data columns (total 4 columns):\n",
      " #   Column             Non-Null Count  Dtype         \n",
      "---  ------             --------------  -----         \n",
      " 0   Id                 5000 non-null   int64         \n",
      " 1   running_time       5000 non-null   datetime64[ns]\n",
      " 2   route_distance_km  5000 non-null   float64       \n",
      " 3   delta_time         5000 non-null   float64       \n",
      "dtypes: datetime64[ns](1), float64(2), int64(1)\n",
      "memory usage: 156.4 KB\n"
     ]
    }
   ],
   "source": [
    "train.info()"
   ]
  },
  {
   "cell_type": "code",
   "execution_count": 132,
   "id": "fcdb0285-cf8d-402f-be33-5233ed6f5fed",
   "metadata": {},
   "outputs": [
    {
     "data": {
      "text/plain": [
       "Timestamp('2022-01-24 12:48:33.500000')"
      ]
     },
     "execution_count": 132,
     "metadata": {},
     "output_type": "execute_result"
    }
   ],
   "source": [
    "train['running_time'].median()"
   ]
  },
  {
   "cell_type": "code",
   "execution_count": 131,
   "id": "0724aae7-ba14-4ada-b5e3-84b7fe17fbb6",
   "metadata": {},
   "outputs": [
    {
     "data": {
      "image/png": "[encoded data removed]",
      "text/plain": [
       "<Figure size 864x576 with 1 Axes>"
      ]
     },
     "metadata": {
      "needs_background": "light"
     },
     "output_type": "display_data"
    }
   ],
   "source": [
    "plt.figure(figsize=(12,8))\n",
    "train.sort_values('running_time')['running_time'].hist()\n",
    "plt.axvline(train['running_time'].median(), color = 'r')\n",
    "plt.show()"
   ]
  },
  {
   "cell_type": "code",
   "execution_count": 137,
   "id": "e33b0fca-793b-4f69-8e82-bb8af4e364ed",
   "metadata": {},
   "outputs": [
    {
     "data": {
      "text/plain": [
       "18"
      ]
     },
     "execution_count": 137,
     "metadata": {},
     "output_type": "execute_result"
    }
   ],
   "source": [
    "train.iloc[0, 1].hour"
   ]
  },
  {
   "cell_type": "code",
   "execution_count": 139,
   "id": "8636b9fc-7865-4ade-b435-273a4a356350",
   "metadata": {},
   "outputs": [],
   "source": [
    "train['hours'] = train['running_time'].apply(lambda x: x.hour)"
   ]
  },
  {
   "cell_type": "code",
   "execution_count": 140,
   "id": "54a2a0b2-2a94-40ad-a036-91837a27824d",
   "metadata": {},
   "outputs": [
    {
     "data": {
      "text/html": [
       "<div>\n",
       "<style scoped>\n",
       "    .dataframe tbody tr th:only-of-type {\n",
       "        vertical-align: middle;\n",
       "    }\n",
       "\n",
       "    .dataframe tbody tr th {\n",
       "        vertical-align: top;\n",
       "    }\n",
       "\n",
       "    .dataframe thead th {\n",
       "        text-align: right;\n",
       "    }\n",
       "</style>\n",
       "<table border=\"1\" class=\"dataframe\">\n",
       "  <thead>\n",
       "    <tr style=\"text-align: right;\">\n",
       "      <th></th>\n",
       "      <th>Id</th>\n",
       "      <th>running_time</th>\n",
       "      <th>route_distance_km</th>\n",
       "      <th>delta_time</th>\n",
       "      <th>hours</th>\n",
       "    </tr>\n",
       "  </thead>\n",
       "  <tbody>\n",
       "    <tr>\n",
       "      <th>0</th>\n",
       "      <td>-4773019581999572651</td>\n",
       "      <td>2022-01-24 18:30:21</td>\n",
       "      <td>3.740</td>\n",
       "      <td>862.0</td>\n",
       "      <td>18</td>\n",
       "    </tr>\n",
       "    <tr>\n",
       "      <th>1</th>\n",
       "      <td>-7575630690398473489</td>\n",
       "      <td>2022-01-24 06:53:53</td>\n",
       "      <td>3.526</td>\n",
       "      <td>753.0</td>\n",
       "      <td>6</td>\n",
       "    </tr>\n",
       "    <tr>\n",
       "      <th>2</th>\n",
       "      <td>-6264582368520213833</td>\n",
       "      <td>2022-01-24 10:00:59</td>\n",
       "      <td>5.071</td>\n",
       "      <td>899.0</td>\n",
       "      <td>10</td>\n",
       "    </tr>\n",
       "    <tr>\n",
       "      <th>3</th>\n",
       "      <td>5964315354301636538</td>\n",
       "      <td>2022-01-24 14:28:05</td>\n",
       "      <td>2.867</td>\n",
       "      <td>423.0</td>\n",
       "      <td>14</td>\n",
       "    </tr>\n",
       "    <tr>\n",
       "      <th>4</th>\n",
       "      <td>1372379574816145639</td>\n",
       "      <td>2022-01-24 11:57:29</td>\n",
       "      <td>3.751</td>\n",
       "      <td>540.0</td>\n",
       "      <td>11</td>\n",
       "    </tr>\n",
       "    <tr>\n",
       "      <th>...</th>\n",
       "      <td>...</td>\n",
       "      <td>...</td>\n",
       "      <td>...</td>\n",
       "      <td>...</td>\n",
       "      <td>...</td>\n",
       "    </tr>\n",
       "    <tr>\n",
       "      <th>4995</th>\n",
       "      <td>7096714159023973792</td>\n",
       "      <td>2022-01-24 21:10:38</td>\n",
       "      <td>7.397</td>\n",
       "      <td>795.0</td>\n",
       "      <td>21</td>\n",
       "    </tr>\n",
       "    <tr>\n",
       "      <th>4996</th>\n",
       "      <td>-3836026425968071806</td>\n",
       "      <td>2022-01-24 15:10:27</td>\n",
       "      <td>1.948</td>\n",
       "      <td>594.0</td>\n",
       "      <td>15</td>\n",
       "    </tr>\n",
       "    <tr>\n",
       "      <th>4997</th>\n",
       "      <td>2926216435675216636</td>\n",
       "      <td>2022-01-24 13:57:04</td>\n",
       "      <td>2.547</td>\n",
       "      <td>374.0</td>\n",
       "      <td>13</td>\n",
       "    </tr>\n",
       "    <tr>\n",
       "      <th>4998</th>\n",
       "      <td>-6677307480063489707</td>\n",
       "      <td>2022-01-24 08:46:13</td>\n",
       "      <td>3.013</td>\n",
       "      <td>561.0</td>\n",
       "      <td>8</td>\n",
       "    </tr>\n",
       "    <tr>\n",
       "      <th>4999</th>\n",
       "      <td>-4845695090750648713</td>\n",
       "      <td>2022-01-24 14:57:46</td>\n",
       "      <td>2.323</td>\n",
       "      <td>819.0</td>\n",
       "      <td>14</td>\n",
       "    </tr>\n",
       "  </tbody>\n",
       "</table>\n",
       "<p>5000 rows × 5 columns</p>\n",
       "</div>"
      ],
      "text/plain": [
       "                       Id        running_time  route_distance_km  delta_time  \\\n",
       "0    -4773019581999572651 2022-01-24 18:30:21              3.740       862.0   \n",
       "1    -7575630690398473489 2022-01-24 06:53:53              3.526       753.0   \n",
       "2    -6264582368520213833 2022-01-24 10:00:59              5.071       899.0   \n",
       "3     5964315354301636538 2022-01-24 14:28:05              2.867       423.0   \n",
       "4     1372379574816145639 2022-01-24 11:57:29              3.751       540.0   \n",
       "...                   ...                 ...                ...         ...   \n",
       "4995  7096714159023973792 2022-01-24 21:10:38              7.397       795.0   \n",
       "4996 -3836026425968071806 2022-01-24 15:10:27              1.948       594.0   \n",
       "4997  2926216435675216636 2022-01-24 13:57:04              2.547       374.0   \n",
       "4998 -6677307480063489707 2022-01-24 08:46:13              3.013       561.0   \n",
       "4999 -4845695090750648713 2022-01-24 14:57:46              2.323       819.0   \n",
       "\n",
       "      hours  \n",
       "0        18  \n",
       "1         6  \n",
       "2        10  \n",
       "3        14  \n",
       "4        11  \n",
       "...     ...  \n",
       "4995     21  \n",
       "4996     15  \n",
       "4997     13  \n",
       "4998      8  \n",
       "4999     14  \n",
       "\n",
       "[5000 rows x 5 columns]"
      ]
     },
     "execution_count": 140,
     "metadata": {},
     "output_type": "execute_result"
    }
   ],
   "source": [
    "train"
   ]
  },
  {
   "cell_type": "code",
   "execution_count": 147,
   "id": "96c7a021-8a0e-4f95-8455-02b58089a8a5",
   "metadata": {},
   "outputs": [],
   "source": [
    "train['sym_hours_periods'] = train['hours'].apply(lambda x: abs(x-12) if x-12 <= 0 else abs(x-13))"
   ]
  },
  {
   "cell_type": "code",
   "execution_count": 148,
   "id": "0a6b076b-1f00-4c33-8cf5-7bf72e127e46",
   "metadata": {},
   "outputs": [
    {
     "data": {
      "text/html": [
       "<div>\n",
       "<style scoped>\n",
       "    .dataframe tbody tr th:only-of-type {\n",
       "        vertical-align: middle;\n",
       "    }\n",
       "\n",
       "    .dataframe tbody tr th {\n",
       "        vertical-align: top;\n",
       "    }\n",
       "\n",
       "    .dataframe thead th {\n",
       "        text-align: right;\n",
       "    }\n",
       "</style>\n",
       "<table border=\"1\" class=\"dataframe\">\n",
       "  <thead>\n",
       "    <tr style=\"text-align: right;\">\n",
       "      <th></th>\n",
       "      <th>Id</th>\n",
       "      <th>running_time</th>\n",
       "      <th>route_distance_km</th>\n",
       "      <th>delta_time</th>\n",
       "      <th>hours</th>\n",
       "      <th>sym_hours_periods</th>\n",
       "    </tr>\n",
       "  </thead>\n",
       "  <tbody>\n",
       "    <tr>\n",
       "      <th>0</th>\n",
       "      <td>-4773019581999572651</td>\n",
       "      <td>2022-01-24 18:30:21</td>\n",
       "      <td>3.740</td>\n",
       "      <td>862.0</td>\n",
       "      <td>18</td>\n",
       "      <td>5</td>\n",
       "    </tr>\n",
       "    <tr>\n",
       "      <th>1</th>\n",
       "      <td>-7575630690398473489</td>\n",
       "      <td>2022-01-24 06:53:53</td>\n",
       "      <td>3.526</td>\n",
       "      <td>753.0</td>\n",
       "      <td>6</td>\n",
       "      <td>6</td>\n",
       "    </tr>\n",
       "    <tr>\n",
       "      <th>2</th>\n",
       "      <td>-6264582368520213833</td>\n",
       "      <td>2022-01-24 10:00:59</td>\n",
       "      <td>5.071</td>\n",
       "      <td>899.0</td>\n",
       "      <td>10</td>\n",
       "      <td>2</td>\n",
       "    </tr>\n",
       "    <tr>\n",
       "      <th>3</th>\n",
       "      <td>5964315354301636538</td>\n",
       "      <td>2022-01-24 14:28:05</td>\n",
       "      <td>2.867</td>\n",
       "      <td>423.0</td>\n",
       "      <td>14</td>\n",
       "      <td>1</td>\n",
       "    </tr>\n",
       "    <tr>\n",
       "      <th>4</th>\n",
       "      <td>1372379574816145639</td>\n",
       "      <td>2022-01-24 11:57:29</td>\n",
       "      <td>3.751</td>\n",
       "      <td>540.0</td>\n",
       "      <td>11</td>\n",
       "      <td>1</td>\n",
       "    </tr>\n",
       "    <tr>\n",
       "      <th>...</th>\n",
       "      <td>...</td>\n",
       "      <td>...</td>\n",
       "      <td>...</td>\n",
       "      <td>...</td>\n",
       "      <td>...</td>\n",
       "      <td>...</td>\n",
       "    </tr>\n",
       "    <tr>\n",
       "      <th>4995</th>\n",
       "      <td>7096714159023973792</td>\n",
       "      <td>2022-01-24 21:10:38</td>\n",
       "      <td>7.397</td>\n",
       "      <td>795.0</td>\n",
       "      <td>21</td>\n",
       "      <td>8</td>\n",
       "    </tr>\n",
       "    <tr>\n",
       "      <th>4996</th>\n",
       "      <td>-3836026425968071806</td>\n",
       "      <td>2022-01-24 15:10:27</td>\n",
       "      <td>1.948</td>\n",
       "      <td>594.0</td>\n",
       "      <td>15</td>\n",
       "      <td>2</td>\n",
       "    </tr>\n",
       "    <tr>\n",
       "      <th>4997</th>\n",
       "      <td>2926216435675216636</td>\n",
       "      <td>2022-01-24 13:57:04</td>\n",
       "      <td>2.547</td>\n",
       "      <td>374.0</td>\n",
       "      <td>13</td>\n",
       "      <td>0</td>\n",
       "    </tr>\n",
       "    <tr>\n",
       "      <th>4998</th>\n",
       "      <td>-6677307480063489707</td>\n",
       "      <td>2022-01-24 08:46:13</td>\n",
       "      <td>3.013</td>\n",
       "      <td>561.0</td>\n",
       "      <td>8</td>\n",
       "      <td>4</td>\n",
       "    </tr>\n",
       "    <tr>\n",
       "      <th>4999</th>\n",
       "      <td>-4845695090750648713</td>\n",
       "      <td>2022-01-24 14:57:46</td>\n",
       "      <td>2.323</td>\n",
       "      <td>819.0</td>\n",
       "      <td>14</td>\n",
       "      <td>1</td>\n",
       "    </tr>\n",
       "  </tbody>\n",
       "</table>\n",
       "<p>5000 rows × 6 columns</p>\n",
       "</div>"
      ],
      "text/plain": [
       "                       Id        running_time  route_distance_km  delta_time  \\\n",
       "0    -4773019581999572651 2022-01-24 18:30:21              3.740       862.0   \n",
       "1    -7575630690398473489 2022-01-24 06:53:53              3.526       753.0   \n",
       "2    -6264582368520213833 2022-01-24 10:00:59              5.071       899.0   \n",
       "3     5964315354301636538 2022-01-24 14:28:05              2.867       423.0   \n",
       "4     1372379574816145639 2022-01-24 11:57:29              3.751       540.0   \n",
       "...                   ...                 ...                ...         ...   \n",
       "4995  7096714159023973792 2022-01-24 21:10:38              7.397       795.0   \n",
       "4996 -3836026425968071806 2022-01-24 15:10:27              1.948       594.0   \n",
       "4997  2926216435675216636 2022-01-24 13:57:04              2.547       374.0   \n",
       "4998 -6677307480063489707 2022-01-24 08:46:13              3.013       561.0   \n",
       "4999 -4845695090750648713 2022-01-24 14:57:46              2.323       819.0   \n",
       "\n",
       "      hours  sym_hours_periods  \n",
       "0        18                  5  \n",
       "1         6                  6  \n",
       "2        10                  2  \n",
       "3        14                  1  \n",
       "4        11                  1  \n",
       "...     ...                ...  \n",
       "4995     21                  8  \n",
       "4996     15                  2  \n",
       "4997     13                  0  \n",
       "4998      8                  4  \n",
       "4999     14                  1  \n",
       "\n",
       "[5000 rows x 6 columns]"
      ]
     },
     "execution_count": 148,
     "metadata": {},
     "output_type": "execute_result"
    }
   ],
   "source": [
    "train"
   ]
  },
  {
   "cell_type": "code",
   "execution_count": 14,
   "id": "478e3632-4203-458f-b37a-a8dab6bf7857",
   "metadata": {},
   "outputs": [],
   "source": [
    "def data_transform(df_ord, df_nod, type_ = None):\n",
    "    \n",
    "    if type_ == 'train':\n",
    "        df_ord.drop('completed_time', axis = 1, inplace=True)\n",
    "    else:\n",
    "        pass\n",
    "    \n",
    "    df_ord['running_time'] = pd.to_datetime(df_ord['running_time'])\n",
    "    df_ord['hours'] = df_ord['running_time'].apply(lambda x: x.hour)\n",
    "    df_ord['sym_hours_periods'] = df_ord['hours'].apply(lambda x: abs(x-12) if x-12 <= 0 else abs(x-13))\n",
    "    \n",
    "    speed_means = df_nod.groupby(\"Id\")['speed'].mean()\n",
    "    \n",
    "    i = 0\n",
    "    for row in df_nod.values:\n",
    "        if np.isnan(row[4]):\n",
    "            df_nod.iloc[i, 4] = df_nod[df_nod['Id'] == row[0]]['speed'].mean(skipna = True)\n",
    "        i+=1\n",
    "        \n",
    "    df_nod['time'] = df_nod.apply(lambda x: (float(x[3])/float(x[4]))/1000*3600, axis = 1)\n",
    "    \n",
    "    if df_nod[df_nod['speed'].isnull()]['Id'].sum() != 0:\n",
    "        print(df_nod[df_nod['speed'].isnull()]['Id'].sum())\n",
    "        raise ValueError('u have nans')\n",
    "    else:\n",
    "        pass\n",
    "    \n",
    "    time_sum = df_nod.groupby(\"Id\")['time'].sum()\n",
    "    df_ord = df_ord.merge(time_sum, left_on='Id', right_on='Id')\n",
    "    \n",
    "    dist_sum = df_nod.groupby(\"Id\")['distance'].sum()\n",
    "    df_ord = df_ord.merge(dist_sum, left_on='Id', right_on='Id')\n",
    "    \n",
    "    df_ord['route_distance_km'] = df_ord['route_distance_km']*1000\n",
    "    df_ord['speed_from_node'] = df_ord['distance']/df_ord['time']\n",
    "    \n",
    "    ind_dict = df_nod.groupby('Id').indices\n",
    "    diff_nodes = {}\n",
    "    \n",
    "    for key in ind_dict.keys():\n",
    "        diff_nodes[key] = len(set(df_nod.iloc[ind_dict[key], 1])-set(df_nod.iloc[ind_dict[key], 2]))\n",
    "        \n",
    "    diff_nodes_df = pd.DataFrame(data=diff_nodes.items(), columns=['Id','diff_nodes'])\n",
    "    df_ord = df_ord.merge(diff_nodes_df, left_on='Id', right_on='Id')\n",
    "    \n",
    "    df_ord['diff_dist'] = df_ord[\"route_distance_km\"] - df_ord[\"distance\"]\n",
    "    \n",
    "    df_ord.drop('running_time', axis = 1, inplace=True)\n",
    "    \n",
    "    return df_ord, df_nod"
   ]
  },
  {
   "cell_type": "code",
   "execution_count": 15,
   "id": "c0a36d2c-36f2-4842-853d-e6b2bc8f638b",
   "metadata": {},
   "outputs": [],
   "source": [
    "df_ord, df_nod = orders_kag.copy(), nodes_kag.copy()\n",
    "\n",
    "tr_ord, tr_nod = data_transform(df_ord, df_nod, type_='train')"
   ]
  },
  {
   "cell_type": "code",
   "execution_count": 16,
   "id": "25f39b0b-cb87-408b-9c1f-84800ab338e5",
   "metadata": {},
   "outputs": [
    {
     "data": {
      "text/html": [
       "<div>\n",
       "<style scoped>\n",
       "    .dataframe tbody tr th:only-of-type {\n",
       "        vertical-align: middle;\n",
       "    }\n",
       "\n",
       "    .dataframe tbody tr th {\n",
       "        vertical-align: top;\n",
       "    }\n",
       "\n",
       "    .dataframe thead th {\n",
       "        text-align: right;\n",
       "    }\n",
       "</style>\n",
       "<table border=\"1\" class=\"dataframe\">\n",
       "  <thead>\n",
       "    <tr style=\"text-align: right;\">\n",
       "      <th></th>\n",
       "      <th>Id</th>\n",
       "      <th>route_distance_km</th>\n",
       "      <th>delta_time</th>\n",
       "      <th>hours</th>\n",
       "      <th>sym_hours_periods</th>\n",
       "      <th>time</th>\n",
       "      <th>distance</th>\n",
       "      <th>speed_from_node</th>\n",
       "      <th>diff_nodes</th>\n",
       "      <th>diff_dist</th>\n",
       "    </tr>\n",
       "  </thead>\n",
       "  <tbody>\n",
       "    <tr>\n",
       "      <th>0</th>\n",
       "      <td>-4773019581999572651</td>\n",
       "      <td>3740.0</td>\n",
       "      <td>862.0</td>\n",
       "      <td>18</td>\n",
       "      <td>5</td>\n",
       "      <td>445.785429</td>\n",
       "      <td>3470.256759</td>\n",
       "      <td>7.784590</td>\n",
       "      <td>2</td>\n",
       "      <td>269.743241</td>\n",
       "    </tr>\n",
       "    <tr>\n",
       "      <th>1</th>\n",
       "      <td>-7575630690398473489</td>\n",
       "      <td>3526.0</td>\n",
       "      <td>753.0</td>\n",
       "      <td>6</td>\n",
       "      <td>6</td>\n",
       "      <td>339.653051</td>\n",
       "      <td>2918.173868</td>\n",
       "      <td>8.591632</td>\n",
       "      <td>2</td>\n",
       "      <td>607.826132</td>\n",
       "    </tr>\n",
       "    <tr>\n",
       "      <th>2</th>\n",
       "      <td>-6264582368520213833</td>\n",
       "      <td>5071.0</td>\n",
       "      <td>899.0</td>\n",
       "      <td>10</td>\n",
       "      <td>2</td>\n",
       "      <td>555.516246</td>\n",
       "      <td>4564.939071</td>\n",
       "      <td>8.217472</td>\n",
       "      <td>5</td>\n",
       "      <td>506.060929</td>\n",
       "    </tr>\n",
       "    <tr>\n",
       "      <th>3</th>\n",
       "      <td>5964315354301636538</td>\n",
       "      <td>2867.0</td>\n",
       "      <td>423.0</td>\n",
       "      <td>14</td>\n",
       "      <td>1</td>\n",
       "      <td>327.574647</td>\n",
       "      <td>2613.543847</td>\n",
       "      <td>7.978468</td>\n",
       "      <td>2</td>\n",
       "      <td>253.456153</td>\n",
       "    </tr>\n",
       "    <tr>\n",
       "      <th>4</th>\n",
       "      <td>1372379574816145639</td>\n",
       "      <td>3751.0</td>\n",
       "      <td>540.0</td>\n",
       "      <td>11</td>\n",
       "      <td>1</td>\n",
       "      <td>412.088153</td>\n",
       "      <td>4061.531629</td>\n",
       "      <td>9.855978</td>\n",
       "      <td>1</td>\n",
       "      <td>-310.531629</td>\n",
       "    </tr>\n",
       "    <tr>\n",
       "      <th>...</th>\n",
       "      <td>...</td>\n",
       "      <td>...</td>\n",
       "      <td>...</td>\n",
       "      <td>...</td>\n",
       "      <td>...</td>\n",
       "      <td>...</td>\n",
       "      <td>...</td>\n",
       "      <td>...</td>\n",
       "      <td>...</td>\n",
       "      <td>...</td>\n",
       "    </tr>\n",
       "    <tr>\n",
       "      <th>4995</th>\n",
       "      <td>7096714159023973792</td>\n",
       "      <td>7397.0</td>\n",
       "      <td>795.0</td>\n",
       "      <td>21</td>\n",
       "      <td>8</td>\n",
       "      <td>548.510212</td>\n",
       "      <td>5207.917284</td>\n",
       "      <td>9.494659</td>\n",
       "      <td>2</td>\n",
       "      <td>2189.082716</td>\n",
       "    </tr>\n",
       "    <tr>\n",
       "      <th>4996</th>\n",
       "      <td>-3836026425968071806</td>\n",
       "      <td>1948.0</td>\n",
       "      <td>594.0</td>\n",
       "      <td>15</td>\n",
       "      <td>2</td>\n",
       "      <td>342.160014</td>\n",
       "      <td>2017.743832</td>\n",
       "      <td>5.897077</td>\n",
       "      <td>1</td>\n",
       "      <td>-69.743832</td>\n",
       "    </tr>\n",
       "    <tr>\n",
       "      <th>4997</th>\n",
       "      <td>2926216435675216636</td>\n",
       "      <td>2547.0</td>\n",
       "      <td>374.0</td>\n",
       "      <td>13</td>\n",
       "      <td>0</td>\n",
       "      <td>267.563772</td>\n",
       "      <td>2186.855130</td>\n",
       "      <td>8.173211</td>\n",
       "      <td>2</td>\n",
       "      <td>360.144870</td>\n",
       "    </tr>\n",
       "    <tr>\n",
       "      <th>4998</th>\n",
       "      <td>-6677307480063489707</td>\n",
       "      <td>3013.0</td>\n",
       "      <td>561.0</td>\n",
       "      <td>8</td>\n",
       "      <td>4</td>\n",
       "      <td>309.542469</td>\n",
       "      <td>2473.299895</td>\n",
       "      <td>7.990180</td>\n",
       "      <td>2</td>\n",
       "      <td>539.700105</td>\n",
       "    </tr>\n",
       "    <tr>\n",
       "      <th>4999</th>\n",
       "      <td>-4845695090750648713</td>\n",
       "      <td>2323.0</td>\n",
       "      <td>819.0</td>\n",
       "      <td>14</td>\n",
       "      <td>1</td>\n",
       "      <td>329.062837</td>\n",
       "      <td>2043.808592</td>\n",
       "      <td>6.210998</td>\n",
       "      <td>3</td>\n",
       "      <td>279.191408</td>\n",
       "    </tr>\n",
       "  </tbody>\n",
       "</table>\n",
       "<p>5000 rows × 10 columns</p>\n",
       "</div>"
      ],
      "text/plain": [
       "                       Id  route_distance_km  delta_time  hours  \\\n",
       "0    -4773019581999572651             3740.0       862.0     18   \n",
       "1    -7575630690398473489             3526.0       753.0      6   \n",
       "2    -6264582368520213833             5071.0       899.0     10   \n",
       "3     5964315354301636538             2867.0       423.0     14   \n",
       "4     1372379574816145639             3751.0       540.0     11   \n",
       "...                   ...                ...         ...    ...   \n",
       "4995  7096714159023973792             7397.0       795.0     21   \n",
       "4996 -3836026425968071806             1948.0       594.0     15   \n",
       "4997  2926216435675216636             2547.0       374.0     13   \n",
       "4998 -6677307480063489707             3013.0       561.0      8   \n",
       "4999 -4845695090750648713             2323.0       819.0     14   \n",
       "\n",
       "      sym_hours_periods        time     distance  speed_from_node  diff_nodes  \\\n",
       "0                     5  445.785429  3470.256759         7.784590           2   \n",
       "1                     6  339.653051  2918.173868         8.591632           2   \n",
       "2                     2  555.516246  4564.939071         8.217472           5   \n",
       "3                     1  327.574647  2613.543847         7.978468           2   \n",
       "4                     1  412.088153  4061.531629         9.855978           1   \n",
       "...                 ...         ...          ...              ...         ...   \n",
       "4995                  8  548.510212  5207.917284         9.494659           2   \n",
       "4996                  2  342.160014  2017.743832         5.897077           1   \n",
       "4997                  0  267.563772  2186.855130         8.173211           2   \n",
       "4998                  4  309.542469  2473.299895         7.990180           2   \n",
       "4999                  1  329.062837  2043.808592         6.210998           3   \n",
       "\n",
       "        diff_dist  \n",
       "0      269.743241  \n",
       "1      607.826132  \n",
       "2      506.060929  \n",
       "3      253.456153  \n",
       "4     -310.531629  \n",
       "...           ...  \n",
       "4995  2189.082716  \n",
       "4996   -69.743832  \n",
       "4997   360.144870  \n",
       "4998   539.700105  \n",
       "4999   279.191408  \n",
       "\n",
       "[5000 rows x 10 columns]"
      ]
     },
     "execution_count": 16,
     "metadata": {},
     "output_type": "execute_result"
    }
   ],
   "source": [
    "tr_ord"
   ]
  },
  {
   "cell_type": "code",
   "execution_count": 17,
   "id": "5ef39779-b0be-49f0-948e-ae669188c85b",
   "metadata": {},
   "outputs": [],
   "source": [
    "tr_ord.to_csv('train_data.csv')"
   ]
  },
  {
   "cell_type": "code",
   "execution_count": 18,
   "id": "0e5170a2-09d1-4aa7-af75-ac865cc0ae33",
   "metadata": {},
   "outputs": [],
   "source": [
    "test = pd.read_csv('test.csv')\n",
    "\n",
    "df_ord, df_nod = test.copy(), nodes_kag.copy()\n",
    "ts_ord, ts_nod = data_transform(df_ord, df_nod, type_='test')"
   ]
  },
  {
   "cell_type": "code",
   "execution_count": 19,
   "id": "dec7dde6-bf18-4ec7-a4e0-8e7734dc7bd2",
   "metadata": {},
   "outputs": [
    {
     "data": {
      "text/html": [
       "<div>\n",
       "<style scoped>\n",
       "    .dataframe tbody tr th:only-of-type {\n",
       "        vertical-align: middle;\n",
       "    }\n",
       "\n",
       "    .dataframe tbody tr th {\n",
       "        vertical-align: top;\n",
       "    }\n",
       "\n",
       "    .dataframe thead th {\n",
       "        text-align: right;\n",
       "    }\n",
       "</style>\n",
       "<table border=\"1\" class=\"dataframe\">\n",
       "  <thead>\n",
       "    <tr style=\"text-align: right;\">\n",
       "      <th></th>\n",
       "      <th>Id</th>\n",
       "      <th>route_distance_km</th>\n",
       "      <th>hours</th>\n",
       "      <th>sym_hours_periods</th>\n",
       "      <th>time</th>\n",
       "      <th>distance</th>\n",
       "      <th>speed_from_node</th>\n",
       "      <th>diff_nodes</th>\n",
       "      <th>diff_dist</th>\n",
       "    </tr>\n",
       "  </thead>\n",
       "  <tbody>\n",
       "    <tr>\n",
       "      <th>0</th>\n",
       "      <td>4567450496676323264</td>\n",
       "      <td>5533.0</td>\n",
       "      <td>0</td>\n",
       "      <td>12</td>\n",
       "      <td>270.098851</td>\n",
       "      <td>2275.576895</td>\n",
       "      <td>8.424978</td>\n",
       "      <td>2</td>\n",
       "      <td>3257.423105</td>\n",
       "    </tr>\n",
       "    <tr>\n",
       "      <th>1</th>\n",
       "      <td>-1762687449608244695</td>\n",
       "      <td>4448.0</td>\n",
       "      <td>0</td>\n",
       "      <td>12</td>\n",
       "      <td>100.585544</td>\n",
       "      <td>894.017302</td>\n",
       "      <td>8.888129</td>\n",
       "      <td>2</td>\n",
       "      <td>3553.982698</td>\n",
       "    </tr>\n",
       "    <tr>\n",
       "      <th>2</th>\n",
       "      <td>558209096572647780</td>\n",
       "      <td>2751.0</td>\n",
       "      <td>0</td>\n",
       "      <td>12</td>\n",
       "      <td>290.640752</td>\n",
       "      <td>2433.800222</td>\n",
       "      <td>8.373912</td>\n",
       "      <td>1</td>\n",
       "      <td>317.199778</td>\n",
       "    </tr>\n",
       "    <tr>\n",
       "      <th>3</th>\n",
       "      <td>1091960336272216078</td>\n",
       "      <td>4435.0</td>\n",
       "      <td>1</td>\n",
       "      <td>11</td>\n",
       "      <td>372.676359</td>\n",
       "      <td>4150.487634</td>\n",
       "      <td>11.136976</td>\n",
       "      <td>3</td>\n",
       "      <td>284.512366</td>\n",
       "    </tr>\n",
       "    <tr>\n",
       "      <th>4</th>\n",
       "      <td>-1321994599972009663</td>\n",
       "      <td>2394.0</td>\n",
       "      <td>1</td>\n",
       "      <td>11</td>\n",
       "      <td>310.831511</td>\n",
       "      <td>2627.683955</td>\n",
       "      <td>8.453724</td>\n",
       "      <td>2</td>\n",
       "      <td>-233.683955</td>\n",
       "    </tr>\n",
       "    <tr>\n",
       "      <th>...</th>\n",
       "      <td>...</td>\n",
       "      <td>...</td>\n",
       "      <td>...</td>\n",
       "      <td>...</td>\n",
       "      <td>...</td>\n",
       "      <td>...</td>\n",
       "      <td>...</td>\n",
       "      <td>...</td>\n",
       "      <td>...</td>\n",
       "    </tr>\n",
       "    <tr>\n",
       "      <th>995</th>\n",
       "      <td>-1019532991501300185</td>\n",
       "      <td>2665.0</td>\n",
       "      <td>23</td>\n",
       "      <td>10</td>\n",
       "      <td>289.017731</td>\n",
       "      <td>2558.496155</td>\n",
       "      <td>8.852385</td>\n",
       "      <td>2</td>\n",
       "      <td>106.503845</td>\n",
       "    </tr>\n",
       "    <tr>\n",
       "      <th>996</th>\n",
       "      <td>-3501571252544462083</td>\n",
       "      <td>2353.0</td>\n",
       "      <td>23</td>\n",
       "      <td>10</td>\n",
       "      <td>273.465564</td>\n",
       "      <td>2222.992744</td>\n",
       "      <td>8.128968</td>\n",
       "      <td>1</td>\n",
       "      <td>130.007256</td>\n",
       "    </tr>\n",
       "    <tr>\n",
       "      <th>997</th>\n",
       "      <td>8305010046033518305</td>\n",
       "      <td>2914.0</td>\n",
       "      <td>23</td>\n",
       "      <td>10</td>\n",
       "      <td>261.223101</td>\n",
       "      <td>2719.411633</td>\n",
       "      <td>10.410303</td>\n",
       "      <td>1</td>\n",
       "      <td>194.588367</td>\n",
       "    </tr>\n",
       "    <tr>\n",
       "      <th>998</th>\n",
       "      <td>5747749188503396733</td>\n",
       "      <td>9019.0</td>\n",
       "      <td>23</td>\n",
       "      <td>10</td>\n",
       "      <td>920.177517</td>\n",
       "      <td>8662.861656</td>\n",
       "      <td>9.414337</td>\n",
       "      <td>3</td>\n",
       "      <td>356.138344</td>\n",
       "    </tr>\n",
       "    <tr>\n",
       "      <th>999</th>\n",
       "      <td>8646925889615811725</td>\n",
       "      <td>2115.0</td>\n",
       "      <td>23</td>\n",
       "      <td>10</td>\n",
       "      <td>226.479847</td>\n",
       "      <td>1824.073898</td>\n",
       "      <td>8.054023</td>\n",
       "      <td>1</td>\n",
       "      <td>290.926102</td>\n",
       "    </tr>\n",
       "  </tbody>\n",
       "</table>\n",
       "<p>1000 rows × 9 columns</p>\n",
       "</div>"
      ],
      "text/plain": [
       "                      Id  route_distance_km  hours  sym_hours_periods  \\\n",
       "0    4567450496676323264             5533.0      0                 12   \n",
       "1   -1762687449608244695             4448.0      0                 12   \n",
       "2     558209096572647780             2751.0      0                 12   \n",
       "3    1091960336272216078             4435.0      1                 11   \n",
       "4   -1321994599972009663             2394.0      1                 11   \n",
       "..                   ...                ...    ...                ...   \n",
       "995 -1019532991501300185             2665.0     23                 10   \n",
       "996 -3501571252544462083             2353.0     23                 10   \n",
       "997  8305010046033518305             2914.0     23                 10   \n",
       "998  5747749188503396733             9019.0     23                 10   \n",
       "999  8646925889615811725             2115.0     23                 10   \n",
       "\n",
       "           time     distance  speed_from_node  diff_nodes    diff_dist  \n",
       "0    270.098851  2275.576895         8.424978           2  3257.423105  \n",
       "1    100.585544   894.017302         8.888129           2  3553.982698  \n",
       "2    290.640752  2433.800222         8.373912           1   317.199778  \n",
       "3    372.676359  4150.487634        11.136976           3   284.512366  \n",
       "4    310.831511  2627.683955         8.453724           2  -233.683955  \n",
       "..          ...          ...              ...         ...          ...  \n",
       "995  289.017731  2558.496155         8.852385           2   106.503845  \n",
       "996  273.465564  2222.992744         8.128968           1   130.007256  \n",
       "997  261.223101  2719.411633        10.410303           1   194.588367  \n",
       "998  920.177517  8662.861656         9.414337           3   356.138344  \n",
       "999  226.479847  1824.073898         8.054023           1   290.926102  \n",
       "\n",
       "[1000 rows x 9 columns]"
      ]
     },
     "execution_count": 19,
     "metadata": {},
     "output_type": "execute_result"
    }
   ],
   "source": [
    "ts_ord"
   ]
  },
  {
   "cell_type": "code",
   "execution_count": 20,
   "id": "6a2b05fc-3027-4db4-ad53-20b89452fb1a",
   "metadata": {},
   "outputs": [],
   "source": [
    "ts_ord.to_csv('test_data.csv')"
   ]
  },
  {
   "cell_type": "code",
   "execution_count": 22,
   "id": "09ffc377-9c24-4a9e-a933-23f975bc113c",
   "metadata": {},
   "outputs": [],
   "source": [
    "df_ord, df_nod = orders.copy(), nodes.copy()\n",
    "\n",
    "tr_ord, tr_nod = data_transform(df_ord, df_nod, type_='train')"
   ]
  },
  {
   "cell_type": "code",
   "execution_count": 23,
   "id": "5feb28b5-072d-4d98-8377-f1886ffc5c7c",
   "metadata": {},
   "outputs": [],
   "source": [
    "tr_ord.to_csv('train_data1.csv')"
   ]
  },
  {
   "cell_type": "code",
   "execution_count": null,
   "id": "9ca54dfd-dc86-45b4-96b2-29ee8b1f6492",
   "metadata": {},
   "outputs": [],
   "source": []
  }
 ],
 "metadata": {
  "kernelspec": {
   "display_name": "Python 3 (ipykernel)",
   "language": "python",
   "name": "python3"
  },
  "language_info": {
   "codemirror_mode": {
    "name": "ipython",
    "version": 3
   },
   "file_extension": ".py",
   "mimetype": "text/x-python",
   "name": "python",
   "nbconvert_exporter": "python",
   "pygments_lexer": "ipython3",
   "version": "3.9.10"
  }
 },
 "nbformat": 4,
 "nbformat_minor": 5
}

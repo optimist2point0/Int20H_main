{
 "cells": [
  {
   "cell_type": "code",
   "execution_count": 1,
   "id": "c8974f6c-0b5b-4b41-9037-9fc266c3a5cb",
   "metadata": {},
   "outputs": [],
   "source": [
    "import pandas as pd\n",
    "import numpy as np\n",
    "import matplotlib.pyplot as plt\n",
    "\n",
    "from sklearn.model_selection import train_test_split\n",
    "from sklearn.preprocessing import StandardScaler\n",
    "\n",
    "import copy\n",
    "\n",
    "import torch\n",
    "import torch.nn as nn\n",
    "from torch.utils.data import Dataset, DataLoader, SubsetRandomSampler, ConcatDataset"
   ]
  },
  {
   "cell_type": "code",
   "execution_count": 2,
   "id": "ce42195c-3cc7-444c-8fad-a36cf5a44443",
   "metadata": {},
   "outputs": [],
   "source": [
    "tr_df = pd.read_csv('train_data.csv', index_col=0)"
   ]
  },
  {
   "cell_type": "code",
   "execution_count": 3,
   "id": "6055182b-47ff-45b5-af77-caba3a0deec8",
   "metadata": {},
   "outputs": [],
   "source": [
    "dr_ind = tr_df[abs(tr_df['diff_dist'])>150].index"
   ]
  },
  {
   "cell_type": "code",
   "execution_count": 4,
   "id": "b312aee2-42ac-4f36-9eee-1fb164d2e8c0",
   "metadata": {},
   "outputs": [
    {
     "data": {
      "text/html": [
       "<div>\n",
       "<style scoped>\n",
       "    .dataframe tbody tr th:only-of-type {\n",
       "        vertical-align: middle;\n",
       "    }\n",
       "\n",
       "    .dataframe tbody tr th {\n",
       "        vertical-align: top;\n",
       "    }\n",
       "\n",
       "    .dataframe thead th {\n",
       "        text-align: right;\n",
       "    }\n",
       "</style>\n",
       "<table border=\"1\" class=\"dataframe\">\n",
       "  <thead>\n",
       "    <tr style=\"text-align: right;\">\n",
       "      <th></th>\n",
       "      <th>Id</th>\n",
       "      <th>route_distance_km</th>\n",
       "      <th>delta_time</th>\n",
       "      <th>hours</th>\n",
       "      <th>sym_hours_periods</th>\n",
       "      <th>time</th>\n",
       "      <th>distance</th>\n",
       "      <th>speed_from_node</th>\n",
       "      <th>diff_nodes</th>\n",
       "      <th>diff_dist</th>\n",
       "    </tr>\n",
       "  </thead>\n",
       "  <tbody>\n",
       "    <tr>\n",
       "      <th>12</th>\n",
       "      <td>247442490992434998</td>\n",
       "      <td>3404.0</td>\n",
       "      <td>556.0</td>\n",
       "      <td>17</td>\n",
       "      <td>4</td>\n",
       "      <td>495.367968</td>\n",
       "      <td>3509.135937</td>\n",
       "      <td>7.083898</td>\n",
       "      <td>1</td>\n",
       "      <td>-105.135937</td>\n",
       "    </tr>\n",
       "    <tr>\n",
       "      <th>15</th>\n",
       "      <td>8753872071393012841</td>\n",
       "      <td>1714.0</td>\n",
       "      <td>394.0</td>\n",
       "      <td>8</td>\n",
       "      <td>4</td>\n",
       "      <td>226.181119</td>\n",
       "      <td>1804.775189</td>\n",
       "      <td>7.979336</td>\n",
       "      <td>3</td>\n",
       "      <td>-90.775189</td>\n",
       "    </tr>\n",
       "    <tr>\n",
       "      <th>19</th>\n",
       "      <td>-4799447581923539182</td>\n",
       "      <td>1504.0</td>\n",
       "      <td>409.0</td>\n",
       "      <td>15</td>\n",
       "      <td>2</td>\n",
       "      <td>235.690269</td>\n",
       "      <td>1357.723879</td>\n",
       "      <td>5.760628</td>\n",
       "      <td>2</td>\n",
       "      <td>146.276121</td>\n",
       "    </tr>\n",
       "    <tr>\n",
       "      <th>25</th>\n",
       "      <td>-6722633671062720412</td>\n",
       "      <td>1813.0</td>\n",
       "      <td>418.0</td>\n",
       "      <td>14</td>\n",
       "      <td>1</td>\n",
       "      <td>275.128378</td>\n",
       "      <td>1739.471206</td>\n",
       "      <td>6.322398</td>\n",
       "      <td>1</td>\n",
       "      <td>73.528794</td>\n",
       "    </tr>\n",
       "    <tr>\n",
       "      <th>26</th>\n",
       "      <td>2722667687781990889</td>\n",
       "      <td>2902.0</td>\n",
       "      <td>586.0</td>\n",
       "      <td>5</td>\n",
       "      <td>7</td>\n",
       "      <td>334.060803</td>\n",
       "      <td>3005.013846</td>\n",
       "      <td>8.995410</td>\n",
       "      <td>2</td>\n",
       "      <td>-103.013846</td>\n",
       "    </tr>\n",
       "    <tr>\n",
       "      <th>...</th>\n",
       "      <td>...</td>\n",
       "      <td>...</td>\n",
       "      <td>...</td>\n",
       "      <td>...</td>\n",
       "      <td>...</td>\n",
       "      <td>...</td>\n",
       "      <td>...</td>\n",
       "      <td>...</td>\n",
       "      <td>...</td>\n",
       "      <td>...</td>\n",
       "    </tr>\n",
       "    <tr>\n",
       "      <th>4975</th>\n",
       "      <td>3218356466285963367</td>\n",
       "      <td>2163.0</td>\n",
       "      <td>620.0</td>\n",
       "      <td>6</td>\n",
       "      <td>6</td>\n",
       "      <td>222.202665</td>\n",
       "      <td>2055.568664</td>\n",
       "      <td>9.250873</td>\n",
       "      <td>1</td>\n",
       "      <td>107.431336</td>\n",
       "    </tr>\n",
       "    <tr>\n",
       "      <th>4977</th>\n",
       "      <td>-4251387614414686994</td>\n",
       "      <td>5428.0</td>\n",
       "      <td>784.0</td>\n",
       "      <td>9</td>\n",
       "      <td>3</td>\n",
       "      <td>540.670687</td>\n",
       "      <td>5523.085865</td>\n",
       "      <td>10.215249</td>\n",
       "      <td>3</td>\n",
       "      <td>-95.085865</td>\n",
       "    </tr>\n",
       "    <tr>\n",
       "      <th>4978</th>\n",
       "      <td>-3725034898234950230</td>\n",
       "      <td>1539.0</td>\n",
       "      <td>407.0</td>\n",
       "      <td>10</td>\n",
       "      <td>2</td>\n",
       "      <td>193.063127</td>\n",
       "      <td>1432.572235</td>\n",
       "      <td>7.420227</td>\n",
       "      <td>0</td>\n",
       "      <td>106.427765</td>\n",
       "    </tr>\n",
       "    <tr>\n",
       "      <th>4986</th>\n",
       "      <td>4752186707016702535</td>\n",
       "      <td>3272.0</td>\n",
       "      <td>327.0</td>\n",
       "      <td>3</td>\n",
       "      <td>9</td>\n",
       "      <td>295.350986</td>\n",
       "      <td>3160.018909</td>\n",
       "      <td>10.699199</td>\n",
       "      <td>3</td>\n",
       "      <td>111.981091</td>\n",
       "    </tr>\n",
       "    <tr>\n",
       "      <th>4996</th>\n",
       "      <td>-3836026425968071806</td>\n",
       "      <td>1948.0</td>\n",
       "      <td>594.0</td>\n",
       "      <td>15</td>\n",
       "      <td>2</td>\n",
       "      <td>342.160014</td>\n",
       "      <td>2017.743832</td>\n",
       "      <td>5.897077</td>\n",
       "      <td>1</td>\n",
       "      <td>-69.743832</td>\n",
       "    </tr>\n",
       "  </tbody>\n",
       "</table>\n",
       "<p>796 rows × 10 columns</p>\n",
       "</div>"
      ],
      "text/plain": [
       "                       Id  route_distance_km  delta_time  hours  \\\n",
       "12     247442490992434998             3404.0       556.0     17   \n",
       "15    8753872071393012841             1714.0       394.0      8   \n",
       "19   -4799447581923539182             1504.0       409.0     15   \n",
       "25   -6722633671062720412             1813.0       418.0     14   \n",
       "26    2722667687781990889             2902.0       586.0      5   \n",
       "...                   ...                ...         ...    ...   \n",
       "4975  3218356466285963367             2163.0       620.0      6   \n",
       "4977 -4251387614414686994             5428.0       784.0      9   \n",
       "4978 -3725034898234950230             1539.0       407.0     10   \n",
       "4986  4752186707016702535             3272.0       327.0      3   \n",
       "4996 -3836026425968071806             1948.0       594.0     15   \n",
       "\n",
       "      sym_hours_periods        time     distance  speed_from_node  diff_nodes  \\\n",
       "12                    4  495.367968  3509.135937         7.083898           1   \n",
       "15                    4  226.181119  1804.775189         7.979336           3   \n",
       "19                    2  235.690269  1357.723879         5.760628           2   \n",
       "25                    1  275.128378  1739.471206         6.322398           1   \n",
       "26                    7  334.060803  3005.013846         8.995410           2   \n",
       "...                 ...         ...          ...              ...         ...   \n",
       "4975                  6  222.202665  2055.568664         9.250873           1   \n",
       "4977                  3  540.670687  5523.085865        10.215249           3   \n",
       "4978                  2  193.063127  1432.572235         7.420227           0   \n",
       "4986                  9  295.350986  3160.018909        10.699199           3   \n",
       "4996                  2  342.160014  2017.743832         5.897077           1   \n",
       "\n",
       "       diff_dist  \n",
       "12   -105.135937  \n",
       "15    -90.775189  \n",
       "19    146.276121  \n",
       "25     73.528794  \n",
       "26   -103.013846  \n",
       "...          ...  \n",
       "4975  107.431336  \n",
       "4977  -95.085865  \n",
       "4978  106.427765  \n",
       "4986  111.981091  \n",
       "4996  -69.743832  \n",
       "\n",
       "[796 rows x 10 columns]"
      ]
     },
     "execution_count": 4,
     "metadata": {},
     "output_type": "execute_result"
    }
   ],
   "source": [
    "tr_df[abs(tr_df['diff_dist'])<150]"
   ]
  },
  {
   "cell_type": "code",
   "execution_count": 5,
   "id": "823a8e24-81d0-49ca-a847-0bd1a046c882",
   "metadata": {},
   "outputs": [
    {
     "data": {
      "text/plain": [
       "4204"
      ]
     },
     "execution_count": 5,
     "metadata": {},
     "output_type": "execute_result"
    }
   ],
   "source": [
    "len(dr_ind)"
   ]
  },
  {
   "cell_type": "code",
   "execution_count": 6,
   "id": "2651cf02-69de-4ff6-b13b-a089e09370df",
   "metadata": {},
   "outputs": [],
   "source": [
    "tr_df.drop(dr_ind, axis = 0, inplace = True)"
   ]
  },
  {
   "cell_type": "code",
   "execution_count": 7,
   "id": "7ce58460-c458-4a77-aa60-1a15cbe6d414",
   "metadata": {},
   "outputs": [
    {
     "ename": "NameError",
     "evalue": "name 'tr_df1' is not defined",
     "output_type": "error",
     "traceback": [
      "\u001b[0;31m---------------------------------------------------------------------------\u001b[0m",
      "\u001b[0;31mNameError\u001b[0m                                 Traceback (most recent call last)",
      "Cell \u001b[0;32mIn [7], line 3\u001b[0m\n\u001b[1;32m      1\u001b[0m sc1 \u001b[38;5;241m=\u001b[39m StandardScaler()\n\u001b[0;32m----> 3\u001b[0m X1 \u001b[38;5;241m=\u001b[39m \u001b[43mtr_df1\u001b[49m\u001b[38;5;241m.\u001b[39miloc[:, [\u001b[38;5;241m1\u001b[39m, \u001b[38;5;241m3\u001b[39m,\u001b[38;5;241m4\u001b[39m,\u001b[38;5;241m6\u001b[39m,\u001b[38;5;241m7\u001b[39m,\u001b[38;5;241m8\u001b[39m,\u001b[38;5;241m9\u001b[39m]]\u001b[38;5;241m.\u001b[39mto_numpy()\n\u001b[1;32m      4\u001b[0m X_norm1 \u001b[38;5;241m=\u001b[39m sc1\u001b[38;5;241m.\u001b[39mfit_transform(X1)\n\u001b[1;32m      5\u001b[0m y1 \u001b[38;5;241m=\u001b[39m tr_df1\u001b[38;5;241m.\u001b[39miloc[:, \u001b[38;5;241m2\u001b[39m]\u001b[38;5;241m.\u001b[39mto_numpy()\n",
      "\u001b[0;31mNameError\u001b[0m: name 'tr_df1' is not defined"
     ]
    }
   ],
   "source": [
    "sc1 = StandardScaler()\n",
    "\n",
    "X1 = tr_df1.iloc[:, [1, 3,4,6,7,8,9]].to_numpy()\n",
    "X_norm1 = sc1.fit_transform(X1)\n",
    "y1 = tr_df1.iloc[:, 2].to_numpy()\n",
    "\n",
    "X_train1, X_test1, y_train1, y_test1 = train_test_split(X_norm1, y1, test_size=0.1, random_state=0, shuffle=True)\n",
    "\n",
    "X_train_t1 = torch.from_numpy(X_train1.astype(np.float32))\n",
    "X_test_t1 = torch.from_numpy(X_test1.astype(np.float32))\n",
    "\n",
    "y_train_t1 = torch.from_numpy(y_train1.astype(np.float32))\n",
    "y_train_t1 = y_train_t1.view(y_train_t1.shape[0], 1)\n",
    "y_test_t1 = torch.from_numpy(y_test1.astype(np.float32))\n",
    "y_test_t1 = y_test_t1.view(y_test_t1.shape[0], 1)"
   ]
  },
  {
   "cell_type": "code",
   "execution_count": 7,
   "id": "67b9e7e2-d15e-4907-988e-55a5b6e6250d",
   "metadata": {},
   "outputs": [],
   "source": [
    "sc = StandardScaler()\n",
    "\n",
    "X = tr_df.iloc[:, [1, 3,4,6,7,8,9]].to_numpy()\n",
    "X_norm = sc.fit_transform(X)\n",
    "y = tr_df.iloc[:, 2].to_numpy()\n",
    "\n",
    "X_train, X_test, y_train, y_test = train_test_split(X_norm, y, test_size=0.1, random_state=42, shuffle=True)\n",
    "\n",
    "X_train_t = torch.from_numpy(X_train.astype(np.float32))\n",
    "X_test_t = torch.from_numpy(X_test.astype(np.float32))\n",
    "\n",
    "y_train_t = torch.from_numpy(y_train.astype(np.float32))\n",
    "y_train_t = y_train_t.view(y_train_t.shape[0], 1)\n",
    "y_test_t = torch.from_numpy(y_test.astype(np.float32))\n",
    "y_test_t = y_test_t.view(y_test_t.shape[0], 1)"
   ]
  },
  {
   "cell_type": "code",
   "execution_count": 8,
   "id": "c5e3e206-e7d1-477f-84be-5097f20be452",
   "metadata": {},
   "outputs": [],
   "source": [
    "class ConsumptionDataset_train(Dataset):\n",
    "\n",
    "    def __init__(self, X_train_t, y_train_t):\n",
    "        # Initialize data, download, etc.\n",
    "        # read with numpy or pandas\n",
    "        self.x_data = X_train_t\n",
    "        self.y_data = y_train_t\n",
    "        self.n_samples = X_train_t.shape[0]\n",
    "\n",
    "    # support indexing such that dataset[i] can be used to get i-th sample\n",
    "    def __getitem__(self, index):\n",
    "        return self.x_data[index], self.y_data[index]\n",
    "\n",
    "    # we can call len(dataset) to return the size\n",
    "    def __len__(self):\n",
    "        return self.n_samples\n",
    "    "
   ]
  },
  {
   "cell_type": "code",
   "execution_count": 9,
   "id": "9651fe83-d172-427c-bcc9-a263c7abc0a9",
   "metadata": {},
   "outputs": [],
   "source": [
    "class RMSELoss(nn.Module):\n",
    "    def __init__(self, eps=1e-6):\n",
    "        super().__init__()\n",
    "        self.mse = nn.MSELoss()\n",
    "        self.eps = eps\n",
    "        \n",
    "    def forward(self,yhat,y):\n",
    "        loss = torch.sqrt(self.mse(yhat,y) + self.eps)\n",
    "        return loss"
   ]
  },
  {
   "cell_type": "code",
   "execution_count": 10,
   "id": "de891c68-d623-4502-8461-b381b1b42870",
   "metadata": {},
   "outputs": [],
   "source": [
    "n_input_features = X_train_t.shape[1]"
   ]
  },
  {
   "cell_type": "code",
   "execution_count": 11,
   "id": "9c89fa95-5e1e-454f-a9ba-b1e48fb13320",
   "metadata": {},
   "outputs": [],
   "source": [
    "data_train = ConsumptionDataset_train(X_train_t, y_train_t)\n",
    "\n",
    "num_epochs = 200\n",
    "batch_size = 30\n",
    "\n",
    "train_loader = DataLoader(dataset=data_train,\n",
    "                          batch_size=batch_size)"
   ]
  },
  {
   "cell_type": "code",
   "execution_count": 13,
   "id": "45a56928-45ed-4007-814b-a4519cc6b1fd",
   "metadata": {},
   "outputs": [],
   "source": [
    "class LinearRegression(nn.Module):\n",
    "    def __init__(self, n_input_features):\n",
    "        super(LinearRegression, self).__init__()\n",
    "        torch.manual_seed(0)\n",
    "        self.linear1 = nn.Linear(n_input_features, 4)\n",
    "        self.relu = nn.ReLU()\n",
    "        self.lrelu = nn.LeakyReLU()\n",
    "        self.tanh = nn.Tanh()\n",
    "        self.linear2 = nn.Linear(4,2)\n",
    "        self.linear3 = nn.Linear(2,1)\n",
    "    def forward(self, x):\n",
    "        z1 = self.linear1(x)\n",
    "        a1 = self.tanh(z1)\n",
    "        z2 = self.linear2(a1)\n",
    "        a2 = self.lrelu(z2)\n",
    "        #a1 = self.lrelu(z1)\n",
    "        y_pred = self.relu(self.linear3(a2))\n",
    "        return y_pred"
   ]
  },
  {
   "cell_type": "code",
   "execution_count": 12,
   "id": "dd031032-ff85-45b4-9475-e32502a6956c",
   "metadata": {},
   "outputs": [],
   "source": [
    "class LinearRegression(nn.Module):\n",
    "    def __init__(self, n_input_features):\n",
    "        super(LinearRegression, self).__init__()\n",
    "        torch.manual_seed(0)\n",
    "        self.linear1 = nn.Linear(n_input_features, 5)\n",
    "        self.relu = nn.ReLU()\n",
    "        self.lrelu = nn.LeakyReLU()\n",
    "        self.tanh = nn.Tanh()\n",
    "        self.linear2 = nn.Linear(5,4)\n",
    "        self.linear3 = nn.Linear(4,2)\n",
    "        self.linear4 = nn.Linear(2,1)\n",
    "    def forward(self, x):\n",
    "        z1 = self.linear1(x)\n",
    "        a1 = self.tanh(z1)\n",
    "        z2 = self.linear2(a1)\n",
    "        a2 = self.relu(z2)\n",
    "        z3 = self.linear3(a2)\n",
    "        a3 = self.relu(z3)\n",
    "        y_pred = self.linear4(a3)\n",
    "        return y_pred"
   ]
  },
  {
   "cell_type": "code",
   "execution_count": 13,
   "id": "6b611de8-c6e5-4cd6-a72c-1b6c84c9838e",
   "metadata": {},
   "outputs": [],
   "source": [
    "model = LinearRegression(n_input_features)\n",
    "\n",
    "learning_rate = 0.001\n",
    "criterion = RMSELoss()\n",
    "#criterion = nn.L1Loss()\n",
    "optimizer = torch.optim.Adam(model.parameters(), lr=learning_rate)\n",
    "#scheduler = torch.optim.lr_scheduler.StepLR(optimizer, step_size= 3000, gamma = 0.1)\n",
    "#optimizer = torch.optim.SGD(model.parameters(), lr=learning_rate)"
   ]
  },
  {
   "cell_type": "code",
   "execution_count": 14,
   "id": "71bac758-d02a-4f2c-b4e9-d5ecaeca58b4",
   "metadata": {
    "tags": []
   },
   "outputs": [],
   "source": [
    "train_rmse = []\n",
    "test_rmse = []\n",
    "\n",
    "best_valid_loss=float('inf')\n",
    "best_model = copy.deepcopy(model)\n",
    "\n",
    "n_total_steps = len(train_loader)\n",
    "for epoch in range(num_epochs):\n",
    "    for i, (X, y) in enumerate(train_loader):  \n",
    "        \n",
    "        # Forward pass\n",
    "        outputs = model(X)\n",
    "        loss = criterion(outputs, y)\n",
    "        \n",
    "        test_loss = criterion(model(X_test_t),y_test_t)\n",
    "        if test_loss < best_valid_loss:\n",
    "            best_model = copy.deepcopy(model)\n",
    "            best_valid_loss = test_loss\n",
    "        \n",
    "        # Backward and optimize\n",
    "        optimizer.zero_grad()\n",
    "        loss.backward()\n",
    "        optimizer.step()\n",
    "        \n",
    "        #if (i+1) % 30 == 0:\n",
    "           # print (f'Epoch [{epoch+1}/{num_epochs}], Step [{i+1}/{n_total_steps}], Loss: {loss.item():.4f}')\n",
    "            \n",
    "    train_rmse.append(loss.detach().numpy())\n",
    "    test_rmse.append(criterion(model(X_test_t),y_test_t).detach().numpy())"
   ]
  },
  {
   "cell_type": "code",
   "execution_count": 15,
   "id": "26567538-3829-4c56-a481-c4d0bf1ab416",
   "metadata": {},
   "outputs": [
    {
     "name": "stdout",
     "output_type": "stream",
     "text": [
      "85.43065\n"
     ]
    }
   ],
   "source": [
    "print(np.min(test_rmse))"
   ]
  },
  {
   "cell_type": "code",
   "execution_count": 16,
   "id": "478230b2-5c2e-4392-8f64-3b8008bf604f",
   "metadata": {},
   "outputs": [
    {
     "data": {
      "text/plain": [
       "[<matplotlib.lines.Line2D at 0x16d96fe80>]"
      ]
     },
     "execution_count": 16,
     "metadata": {},
     "output_type": "execute_result"
    },
    {
     "data": {
      "image/png": "[encoded data removed]",
      "text/plain": [
       "<Figure size 864x720 with 1 Axes>"
      ]
     },
     "metadata": {
      "needs_background": "light"
     },
     "output_type": "display_data"
    }
   ],
   "source": [
    "plt.figure(figsize=(12,10))\n",
    "plt.plot(train_rmse)\n",
    "plt.plot(test_rmse)"
   ]
  },
  {
   "cell_type": "code",
   "execution_count": 17,
   "id": "a18467d2-f192-43a6-a404-9d95fb1073c3",
   "metadata": {},
   "outputs": [],
   "source": [
    "torch.save(best_model.state_dict(), 'best_model.pt')"
   ]
  },
  {
   "cell_type": "markdown",
   "id": "e2cfb07d-984e-4f52-9201-195f8573a115",
   "metadata": {},
   "source": [
    "# KFold"
   ]
  },
  {
   "cell_type": "code",
   "execution_count": 44,
   "id": "1dfaf9f5-476a-40eb-8134-7bf5bf93d8ce",
   "metadata": {},
   "outputs": [],
   "source": [
    "from sklearn.model_selection import KFold"
   ]
  },
  {
   "cell_type": "code",
   "execution_count": 39,
   "id": "767192fd-207b-4ef3-8398-6418923c602a",
   "metadata": {},
   "outputs": [],
   "source": [
    "class RaiderDataset_train(Dataset):\n",
    "\n",
    "    def __init__(self, X_train_t, y_train_t):\n",
    "        # Initialize data, download, etc.\n",
    "        # read with numpy or pandas\n",
    "        self.x_data = X_train_t\n",
    "        self.y_data = y_train_t\n",
    "        self.n_samples = X_train_t.shape[0]\n",
    "\n",
    "    # support indexing such that dataset[i] can be used to get i-th sample\n",
    "    def __getitem__(self, index):\n",
    "        return self.x_data[index], self.y_data[index]\n",
    "\n",
    "    # we can call len(dataset) to return the size\n",
    "    def __len__(self):\n",
    "        return self.n_samples\n",
    "    "
   ]
  },
  {
   "cell_type": "code",
   "execution_count": 40,
   "id": "8bae25c0-6142-4a76-8641-27caea1a616c",
   "metadata": {},
   "outputs": [],
   "source": [
    "class RaiderDataset_test(Dataset):\n",
    "\n",
    "    def __init__(self, X_test_t, y_test_t):\n",
    "        # Initialize data, download, etc.\n",
    "        # read with numpy or pandas\n",
    "        self.x_data = X_train_t\n",
    "        self.y_data = y_train_t\n",
    "        self.n_samples = X_train_t.shape[0]\n",
    "\n",
    "    # support indexing such that dataset[i] can be used to get i-th sample\n",
    "    def __getitem__(self, index):\n",
    "        return self.x_data[index], self.y_data[index]\n",
    "\n",
    "    # we can call len(dataset) to return the size\n",
    "    def __len__(self):\n",
    "        return self.n_samples\n",
    "    "
   ]
  },
  {
   "cell_type": "code",
   "execution_count": 32,
   "id": "1ff12144-8196-4bd1-bc94-ac105fe35b81",
   "metadata": {},
   "outputs": [],
   "source": [
    "class LinearRegression(nn.Module):\n",
    "    def __init__(self, n_input_features):\n",
    "        super(LinearRegression, self).__init__()\n",
    "        torch.manual_seed(0)\n",
    "        self.linear1 = nn.Linear(n_input_features, 5)\n",
    "        self.relu = nn.ReLU()\n",
    "        self.lrelu = nn.LeakyReLU()\n",
    "        self.tanh = nn.Tanh()\n",
    "        self.linear2 = nn.Linear(5,4)\n",
    "        self.linear3 = nn.Linear(4,2)\n",
    "        self.linear4 = nn.Linear(2,1)\n",
    "    def forward(self, x):\n",
    "        z1 = self.linear1(x)\n",
    "        a1 = self.tanh(z1)\n",
    "        z2 = self.linear2(a1)\n",
    "        a2 = self.relu(z2)\n",
    "        z3 = self.linear3(a2)\n",
    "        a3 = self.relu(z3)\n",
    "        y_pred = self.linear4(a3)\n",
    "        return y_pred"
   ]
  },
  {
   "cell_type": "code",
   "execution_count": 47,
   "id": "3729ddfa-6201-4b3a-afd0-e6ad3310a5fd",
   "metadata": {},
   "outputs": [],
   "source": [
    "dataset_train_part = RaiderDataset_train(X_train_t, y_train_t)\n",
    "dataset_test_part = RaiderDataset_test(X_test_t, y_test_t)\n",
    "\n",
    "dataset = ConcatDataset([dataset_train_part, dataset_test_part])"
   ]
  },
  {
   "cell_type": "code",
   "execution_count": 48,
   "id": "bce4d122-9f10-4433-9ed3-ca8f08e2ee58",
   "metadata": {},
   "outputs": [],
   "source": [
    "k_folds = 5\n",
    "\n",
    "kfold = KFold(n_splits=k_folds, shuffle=True)"
   ]
  },
  {
   "cell_type": "code",
   "execution_count": null,
   "id": "064e6830-d4e6-41af-a47e-3b1192dde2ac",
   "metadata": {},
   "outputs": [],
   "source": []
  },
  {
   "cell_type": "code",
   "execution_count": 51,
   "id": "15d461a1-9285-4eb3-8410-bab6ee6c9e04",
   "metadata": {},
   "outputs": [
    {
     "name": "stdout",
     "output_type": "stream",
     "text": [
      "FOLD 0\n",
      "--------------------------------\n",
      "FOLD 1\n",
      "--------------------------------\n",
      "FOLD 2\n",
      "--------------------------------\n",
      "FOLD 3\n",
      "--------------------------------\n",
      "FOLD 4\n",
      "--------------------------------\n"
     ]
    }
   ],
   "source": [
    "num_epochs = 200\n",
    "\n",
    "train_batch_size = 30\n",
    "test_batch_size = y_test_t.shape[0]\n",
    "\n",
    "all_loss = []\n",
    "\n",
    "for fold, (train_ids, test_ids) in enumerate(kfold.split(dataset)):\n",
    "    \n",
    "    # Print\n",
    "    print(f'FOLD {fold}')\n",
    "    print('--------------------------------')\n",
    "    \n",
    "    # Sample elements randomly from a given list of ids, no replacement.\n",
    "    train_subsampler = SubsetRandomSampler(train_ids)\n",
    "    test_subsampler = SubsetRandomSampler(test_ids)\n",
    "    \n",
    "    # Define data loaders for training and testing data in this fold\n",
    "    trainloader = DataLoader(\n",
    "                      dataset, \n",
    "                      batch_size=train_batch_size, sampler=train_subsampler)\n",
    "    testloader = DataLoader(\n",
    "                      dataset,\n",
    "                      batch_size=test_batch_size, sampler=test_subsampler)\n",
    "    \n",
    "    # Init the neural network\n",
    "    model = LinearRegression(n_input_features)\n",
    "    \n",
    "    \n",
    "    # Initialize optimizer\n",
    "    learning_rate = 0.001\n",
    "    criterion = RMSELoss()\n",
    "    optimizer = torch.optim.Adam(model.parameters(), lr=learning_rate)\n",
    "    \n",
    "    \n",
    "    best_valid_loss=float('inf')\n",
    "    #best_model = copy.deepcopy(model)\n",
    "    # Run the training loop for defined number of epochs\n",
    "    for epoch in range(0, num_epochs):\n",
    "\n",
    "        for i, (X,y) in enumerate(trainloader, 0):\n",
    "    \n",
    "            # Forward pass\n",
    "            outputs = model(X)\n",
    "            loss = criterion(outputs, y)\n",
    "            \n",
    "            test_loss = criterion(model(X_test_t),y_test_t)\n",
    "            if test_loss < best_valid_loss:\n",
    "                #best_model = copy.deepcopy(model)\n",
    "                best_valid_loss = test_loss\n",
    "            \n",
    "            # Backward and optimize\n",
    "            optimizer.zero_grad()\n",
    "            loss.backward()\n",
    "            optimizer.step()\n",
    "            \n",
    "            #if (i+1) % 30 == 0:\n",
    "               # print (f'Epoch [{epoch+1}/{num_epochs}], Step [{i+1}/{n_total_steps}], Loss: {loss.item():.4f}')\n",
    "            \n",
    "    all_loss.append(best_valid_loss.detach().numpy())\n",
    "        \n",
    "\n",
    "        \n",
    "        \n"
   ]
  },
  {
   "cell_type": "code",
   "execution_count": 52,
   "id": "6b9c5374-d20c-4659-aab5-f9c355c325ba",
   "metadata": {},
   "outputs": [
    {
     "data": {
      "text/plain": [
       "85.25573"
      ]
     },
     "execution_count": 52,
     "metadata": {},
     "output_type": "execute_result"
    }
   ],
   "source": [
    "np.mean(all_loss)"
   ]
  },
  {
   "cell_type": "code",
   "execution_count": null,
   "id": "1b9450ce-1832-4e13-9060-4e4844ed848e",
   "metadata": {},
   "outputs": [],
   "source": []
  }
 ],
 "metadata": {
  "kernelspec": {
   "display_name": "torch",
   "language": "python",
   "name": "torch"
  },
  "language_info": {
   "codemirror_mode": {
    "name": "ipython",
    "version": 3
   },
   "file_extension": ".py",
   "mimetype": "text/x-python",
   "name": "python",
   "nbconvert_exporter": "python",
   "pygments_lexer": "ipython3",
   "version": "3.9.12"
  }
 },
 "nbformat": 4,
 "nbformat_minor": 5
}

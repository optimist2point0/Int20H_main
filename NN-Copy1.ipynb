{
 "cells": [
  {
   "cell_type": "code",
   "execution_count": 1,
   "id": "c8974f6c-0b5b-4b41-9037-9fc266c3a5cb",
   "metadata": {},
   "outputs": [],
   "source": [
    "import pandas as pd\n",
    "import numpy as np\n",
    "import matplotlib.pyplot as plt\n",
    "\n",
    "from sklearn.model_selection import train_test_split\n",
    "from sklearn.preprocessing import StandardScaler\n",
    "\n",
    "import copy\n",
    "\n",
    "import torch\n",
    "import torch.nn as nn\n",
    "from torch.utils.data import Dataset, DataLoader, SubsetRandomSampler, ConcatDataset"
   ]
  },
  {
   "cell_type": "code",
   "execution_count": 71,
   "id": "ce42195c-3cc7-444c-8fad-a36cf5a44443",
   "metadata": {},
   "outputs": [],
   "source": [
    "tr_df = pd.read_csv('train_data.csv',index_col=0)\n",
    "geo_df = pd.read_csv('data_geo.csv')"
   ]
  },
  {
   "cell_type": "code",
   "execution_count": 72,
   "id": "c92c72a7-0f68-41ea-8cb7-864795bcee81",
   "metadata": {},
   "outputs": [],
   "source": [
    "tr_df['timeg'] = tr_df['route_distance_km']/tr_df['speed_from_node']\n",
    "#tr_df['timeg'] = tr_df['distance']/tr_df['speed_from_node']"
   ]
  },
  {
   "cell_type": "code",
   "execution_count": 73,
   "id": "6055182b-47ff-45b5-af77-caba3a0deec8",
   "metadata": {},
   "outputs": [],
   "source": [
    "dr_ind = tr_df[abs(tr_df['diff_dist'])>150].index"
   ]
  },
  {
   "cell_type": "code",
   "execution_count": 74,
   "id": "b312aee2-42ac-4f36-9eee-1fb164d2e8c0",
   "metadata": {},
   "outputs": [
    {
     "data": {
      "text/html": [
       "<div>\n",
       "<style scoped>\n",
       "    .dataframe tbody tr th:only-of-type {\n",
       "        vertical-align: middle;\n",
       "    }\n",
       "\n",
       "    .dataframe tbody tr th {\n",
       "        vertical-align: top;\n",
       "    }\n",
       "\n",
       "    .dataframe thead th {\n",
       "        text-align: right;\n",
       "    }\n",
       "</style>\n",
       "<table border=\"1\" class=\"dataframe\">\n",
       "  <thead>\n",
       "    <tr style=\"text-align: right;\">\n",
       "      <th></th>\n",
       "      <th>Id</th>\n",
       "      <th>route_distance_km</th>\n",
       "      <th>delta_time</th>\n",
       "      <th>hours</th>\n",
       "      <th>sym_hours_periods</th>\n",
       "      <th>time</th>\n",
       "      <th>distance</th>\n",
       "      <th>speed_from_node</th>\n",
       "      <th>diff_nodes</th>\n",
       "      <th>diff_dist</th>\n",
       "      <th>timeg</th>\n",
       "    </tr>\n",
       "  </thead>\n",
       "  <tbody>\n",
       "    <tr>\n",
       "      <th>12</th>\n",
       "      <td>247442490992434998</td>\n",
       "      <td>3404.0</td>\n",
       "      <td>556.0</td>\n",
       "      <td>17</td>\n",
       "      <td>4</td>\n",
       "      <td>495.367968</td>\n",
       "      <td>3509.135937</td>\n",
       "      <td>7.083898</td>\n",
       "      <td>1</td>\n",
       "      <td>-105.135937</td>\n",
       "      <td>480.526430</td>\n",
       "    </tr>\n",
       "    <tr>\n",
       "      <th>15</th>\n",
       "      <td>8753872071393012841</td>\n",
       "      <td>1714.0</td>\n",
       "      <td>394.0</td>\n",
       "      <td>8</td>\n",
       "      <td>4</td>\n",
       "      <td>226.181119</td>\n",
       "      <td>1804.775189</td>\n",
       "      <td>7.979336</td>\n",
       "      <td>3</td>\n",
       "      <td>-90.775189</td>\n",
       "      <td>214.804835</td>\n",
       "    </tr>\n",
       "    <tr>\n",
       "      <th>19</th>\n",
       "      <td>-4799447581923539182</td>\n",
       "      <td>1504.0</td>\n",
       "      <td>409.0</td>\n",
       "      <td>15</td>\n",
       "      <td>2</td>\n",
       "      <td>235.690269</td>\n",
       "      <td>1357.723879</td>\n",
       "      <td>5.760628</td>\n",
       "      <td>2</td>\n",
       "      <td>146.276121</td>\n",
       "      <td>261.082662</td>\n",
       "    </tr>\n",
       "    <tr>\n",
       "      <th>25</th>\n",
       "      <td>-6722633671062720412</td>\n",
       "      <td>1813.0</td>\n",
       "      <td>418.0</td>\n",
       "      <td>14</td>\n",
       "      <td>1</td>\n",
       "      <td>275.128378</td>\n",
       "      <td>1739.471206</td>\n",
       "      <td>6.322398</td>\n",
       "      <td>1</td>\n",
       "      <td>73.528794</td>\n",
       "      <td>286.758267</td>\n",
       "    </tr>\n",
       "    <tr>\n",
       "      <th>26</th>\n",
       "      <td>2722667687781990889</td>\n",
       "      <td>2902.0</td>\n",
       "      <td>586.0</td>\n",
       "      <td>5</td>\n",
       "      <td>7</td>\n",
       "      <td>334.060803</td>\n",
       "      <td>3005.013846</td>\n",
       "      <td>8.995410</td>\n",
       "      <td>2</td>\n",
       "      <td>-103.013846</td>\n",
       "      <td>322.608979</td>\n",
       "    </tr>\n",
       "    <tr>\n",
       "      <th>...</th>\n",
       "      <td>...</td>\n",
       "      <td>...</td>\n",
       "      <td>...</td>\n",
       "      <td>...</td>\n",
       "      <td>...</td>\n",
       "      <td>...</td>\n",
       "      <td>...</td>\n",
       "      <td>...</td>\n",
       "      <td>...</td>\n",
       "      <td>...</td>\n",
       "      <td>...</td>\n",
       "    </tr>\n",
       "    <tr>\n",
       "      <th>4975</th>\n",
       "      <td>3218356466285963367</td>\n",
       "      <td>2163.0</td>\n",
       "      <td>620.0</td>\n",
       "      <td>6</td>\n",
       "      <td>6</td>\n",
       "      <td>222.202665</td>\n",
       "      <td>2055.568664</td>\n",
       "      <td>9.250873</td>\n",
       "      <td>1</td>\n",
       "      <td>107.431336</td>\n",
       "      <td>233.815767</td>\n",
       "    </tr>\n",
       "    <tr>\n",
       "      <th>4977</th>\n",
       "      <td>-4251387614414686994</td>\n",
       "      <td>5428.0</td>\n",
       "      <td>784.0</td>\n",
       "      <td>9</td>\n",
       "      <td>3</td>\n",
       "      <td>540.670687</td>\n",
       "      <td>5523.085865</td>\n",
       "      <td>10.215249</td>\n",
       "      <td>3</td>\n",
       "      <td>-95.085865</td>\n",
       "      <td>531.362459</td>\n",
       "    </tr>\n",
       "    <tr>\n",
       "      <th>4978</th>\n",
       "      <td>-3725034898234950230</td>\n",
       "      <td>1539.0</td>\n",
       "      <td>407.0</td>\n",
       "      <td>10</td>\n",
       "      <td>2</td>\n",
       "      <td>193.063127</td>\n",
       "      <td>1432.572235</td>\n",
       "      <td>7.420227</td>\n",
       "      <td>0</td>\n",
       "      <td>106.427765</td>\n",
       "      <td>207.406053</td>\n",
       "    </tr>\n",
       "    <tr>\n",
       "      <th>4986</th>\n",
       "      <td>4752186707016702535</td>\n",
       "      <td>3272.0</td>\n",
       "      <td>327.0</td>\n",
       "      <td>3</td>\n",
       "      <td>9</td>\n",
       "      <td>295.350986</td>\n",
       "      <td>3160.018909</td>\n",
       "      <td>10.699199</td>\n",
       "      <td>3</td>\n",
       "      <td>111.981091</td>\n",
       "      <td>305.817292</td>\n",
       "    </tr>\n",
       "    <tr>\n",
       "      <th>4996</th>\n",
       "      <td>-3836026425968071806</td>\n",
       "      <td>1948.0</td>\n",
       "      <td>594.0</td>\n",
       "      <td>15</td>\n",
       "      <td>2</td>\n",
       "      <td>342.160014</td>\n",
       "      <td>2017.743832</td>\n",
       "      <td>5.897077</td>\n",
       "      <td>1</td>\n",
       "      <td>-69.743832</td>\n",
       "      <td>330.333166</td>\n",
       "    </tr>\n",
       "  </tbody>\n",
       "</table>\n",
       "<p>796 rows × 11 columns</p>\n",
       "</div>"
      ],
      "text/plain": [
       "                       Id  route_distance_km  delta_time  hours  \\\n",
       "12     247442490992434998             3404.0       556.0     17   \n",
       "15    8753872071393012841             1714.0       394.0      8   \n",
       "19   -4799447581923539182             1504.0       409.0     15   \n",
       "25   -6722633671062720412             1813.0       418.0     14   \n",
       "26    2722667687781990889             2902.0       586.0      5   \n",
       "...                   ...                ...         ...    ...   \n",
       "4975  3218356466285963367             2163.0       620.0      6   \n",
       "4977 -4251387614414686994             5428.0       784.0      9   \n",
       "4978 -3725034898234950230             1539.0       407.0     10   \n",
       "4986  4752186707016702535             3272.0       327.0      3   \n",
       "4996 -3836026425968071806             1948.0       594.0     15   \n",
       "\n",
       "      sym_hours_periods        time     distance  speed_from_node  diff_nodes  \\\n",
       "12                    4  495.367968  3509.135937         7.083898           1   \n",
       "15                    4  226.181119  1804.775189         7.979336           3   \n",
       "19                    2  235.690269  1357.723879         5.760628           2   \n",
       "25                    1  275.128378  1739.471206         6.322398           1   \n",
       "26                    7  334.060803  3005.013846         8.995410           2   \n",
       "...                 ...         ...          ...              ...         ...   \n",
       "4975                  6  222.202665  2055.568664         9.250873           1   \n",
       "4977                  3  540.670687  5523.085865        10.215249           3   \n",
       "4978                  2  193.063127  1432.572235         7.420227           0   \n",
       "4986                  9  295.350986  3160.018909        10.699199           3   \n",
       "4996                  2  342.160014  2017.743832         5.897077           1   \n",
       "\n",
       "       diff_dist       timeg  \n",
       "12   -105.135937  480.526430  \n",
       "15    -90.775189  214.804835  \n",
       "19    146.276121  261.082662  \n",
       "25     73.528794  286.758267  \n",
       "26   -103.013846  322.608979  \n",
       "...          ...         ...  \n",
       "4975  107.431336  233.815767  \n",
       "4977  -95.085865  531.362459  \n",
       "4978  106.427765  207.406053  \n",
       "4986  111.981091  305.817292  \n",
       "4996  -69.743832  330.333166  \n",
       "\n",
       "[796 rows x 11 columns]"
      ]
     },
     "execution_count": 74,
     "metadata": {},
     "output_type": "execute_result"
    }
   ],
   "source": [
    "tr_df[abs(tr_df['diff_dist'])<150]"
   ]
  },
  {
   "cell_type": "code",
   "execution_count": 6,
   "id": "823a8e24-81d0-49ca-a847-0bd1a046c882",
   "metadata": {},
   "outputs": [
    {
     "data": {
      "text/plain": [
       "4204"
      ]
     },
     "execution_count": 6,
     "metadata": {},
     "output_type": "execute_result"
    }
   ],
   "source": [
    "len(dr_ind)"
   ]
  },
  {
   "cell_type": "code",
   "execution_count": 82,
   "id": "2651cf02-69de-4ff6-b13b-a089e09370df",
   "metadata": {},
   "outputs": [],
   "source": [
    "tr_df.drop(dr_ind, axis = 0, inplace = True)"
   ]
  },
  {
   "cell_type": "code",
   "execution_count": 11,
   "id": "69afb3d7-ad82-4609-8897-346683d5f6db",
   "metadata": {},
   "outputs": [
    {
     "data": {
      "text/html": [
       "<div>\n",
       "<style scoped>\n",
       "    .dataframe tbody tr th:only-of-type {\n",
       "        vertical-align: middle;\n",
       "    }\n",
       "\n",
       "    .dataframe tbody tr th {\n",
       "        vertical-align: top;\n",
       "    }\n",
       "\n",
       "    .dataframe thead th {\n",
       "        text-align: right;\n",
       "    }\n",
       "</style>\n",
       "<table border=\"1\" class=\"dataframe\">\n",
       "  <thead>\n",
       "    <tr style=\"text-align: right;\">\n",
       "      <th></th>\n",
       "      <th>route_distance_km</th>\n",
       "      <th>hours</th>\n",
       "      <th>sym_hours_periods</th>\n",
       "      <th>distance</th>\n",
       "      <th>speed_from_node</th>\n",
       "      <th>diff_nodes</th>\n",
       "      <th>diff_dist</th>\n",
       "      <th>timeg</th>\n",
       "    </tr>\n",
       "  </thead>\n",
       "  <tbody>\n",
       "    <tr>\n",
       "      <th>12</th>\n",
       "      <td>3404.0</td>\n",
       "      <td>17</td>\n",
       "      <td>4</td>\n",
       "      <td>3509.135937</td>\n",
       "      <td>7.083898</td>\n",
       "      <td>1</td>\n",
       "      <td>-105.135937</td>\n",
       "      <td>495.367968</td>\n",
       "    </tr>\n",
       "    <tr>\n",
       "      <th>15</th>\n",
       "      <td>1714.0</td>\n",
       "      <td>8</td>\n",
       "      <td>4</td>\n",
       "      <td>1804.775189</td>\n",
       "      <td>7.979336</td>\n",
       "      <td>3</td>\n",
       "      <td>-90.775189</td>\n",
       "      <td>226.181119</td>\n",
       "    </tr>\n",
       "    <tr>\n",
       "      <th>19</th>\n",
       "      <td>1504.0</td>\n",
       "      <td>15</td>\n",
       "      <td>2</td>\n",
       "      <td>1357.723879</td>\n",
       "      <td>5.760628</td>\n",
       "      <td>2</td>\n",
       "      <td>146.276121</td>\n",
       "      <td>235.690269</td>\n",
       "    </tr>\n",
       "    <tr>\n",
       "      <th>25</th>\n",
       "      <td>1813.0</td>\n",
       "      <td>14</td>\n",
       "      <td>1</td>\n",
       "      <td>1739.471206</td>\n",
       "      <td>6.322398</td>\n",
       "      <td>1</td>\n",
       "      <td>73.528794</td>\n",
       "      <td>275.128378</td>\n",
       "    </tr>\n",
       "    <tr>\n",
       "      <th>26</th>\n",
       "      <td>2902.0</td>\n",
       "      <td>5</td>\n",
       "      <td>7</td>\n",
       "      <td>3005.013846</td>\n",
       "      <td>8.995410</td>\n",
       "      <td>2</td>\n",
       "      <td>-103.013846</td>\n",
       "      <td>334.060803</td>\n",
       "    </tr>\n",
       "    <tr>\n",
       "      <th>...</th>\n",
       "      <td>...</td>\n",
       "      <td>...</td>\n",
       "      <td>...</td>\n",
       "      <td>...</td>\n",
       "      <td>...</td>\n",
       "      <td>...</td>\n",
       "      <td>...</td>\n",
       "      <td>...</td>\n",
       "    </tr>\n",
       "    <tr>\n",
       "      <th>4975</th>\n",
       "      <td>2163.0</td>\n",
       "      <td>6</td>\n",
       "      <td>6</td>\n",
       "      <td>2055.568664</td>\n",
       "      <td>9.250873</td>\n",
       "      <td>1</td>\n",
       "      <td>107.431336</td>\n",
       "      <td>222.202665</td>\n",
       "    </tr>\n",
       "    <tr>\n",
       "      <th>4977</th>\n",
       "      <td>5428.0</td>\n",
       "      <td>9</td>\n",
       "      <td>3</td>\n",
       "      <td>5523.085865</td>\n",
       "      <td>10.215249</td>\n",
       "      <td>3</td>\n",
       "      <td>-95.085865</td>\n",
       "      <td>540.670687</td>\n",
       "    </tr>\n",
       "    <tr>\n",
       "      <th>4978</th>\n",
       "      <td>1539.0</td>\n",
       "      <td>10</td>\n",
       "      <td>2</td>\n",
       "      <td>1432.572235</td>\n",
       "      <td>7.420227</td>\n",
       "      <td>0</td>\n",
       "      <td>106.427765</td>\n",
       "      <td>193.063127</td>\n",
       "    </tr>\n",
       "    <tr>\n",
       "      <th>4986</th>\n",
       "      <td>3272.0</td>\n",
       "      <td>3</td>\n",
       "      <td>9</td>\n",
       "      <td>3160.018909</td>\n",
       "      <td>10.699199</td>\n",
       "      <td>3</td>\n",
       "      <td>111.981091</td>\n",
       "      <td>295.350986</td>\n",
       "    </tr>\n",
       "    <tr>\n",
       "      <th>4996</th>\n",
       "      <td>1948.0</td>\n",
       "      <td>15</td>\n",
       "      <td>2</td>\n",
       "      <td>2017.743832</td>\n",
       "      <td>5.897077</td>\n",
       "      <td>1</td>\n",
       "      <td>-69.743832</td>\n",
       "      <td>342.160014</td>\n",
       "    </tr>\n",
       "  </tbody>\n",
       "</table>\n",
       "<p>796 rows × 8 columns</p>\n",
       "</div>"
      ],
      "text/plain": [
       "      route_distance_km  hours  sym_hours_periods     distance  \\\n",
       "12               3404.0     17                  4  3509.135937   \n",
       "15               1714.0      8                  4  1804.775189   \n",
       "19               1504.0     15                  2  1357.723879   \n",
       "25               1813.0     14                  1  1739.471206   \n",
       "26               2902.0      5                  7  3005.013846   \n",
       "...                 ...    ...                ...          ...   \n",
       "4975             2163.0      6                  6  2055.568664   \n",
       "4977             5428.0      9                  3  5523.085865   \n",
       "4978             1539.0     10                  2  1432.572235   \n",
       "4986             3272.0      3                  9  3160.018909   \n",
       "4996             1948.0     15                  2  2017.743832   \n",
       "\n",
       "      speed_from_node  diff_nodes   diff_dist       timeg  \n",
       "12           7.083898           1 -105.135937  495.367968  \n",
       "15           7.979336           3  -90.775189  226.181119  \n",
       "19           5.760628           2  146.276121  235.690269  \n",
       "25           6.322398           1   73.528794  275.128378  \n",
       "26           8.995410           2 -103.013846  334.060803  \n",
       "...               ...         ...         ...         ...  \n",
       "4975         9.250873           1  107.431336  222.202665  \n",
       "4977        10.215249           3  -95.085865  540.670687  \n",
       "4978         7.420227           0  106.427765  193.063127  \n",
       "4986        10.699199           3  111.981091  295.350986  \n",
       "4996         5.897077           1  -69.743832  342.160014  \n",
       "\n",
       "[796 rows x 8 columns]"
      ]
     },
     "execution_count": 11,
     "metadata": {},
     "output_type": "execute_result"
    }
   ],
   "source": [
    "tr_df.iloc[:, [1,3,4,6,7,8,9,10]]"
   ]
  },
  {
   "cell_type": "code",
   "execution_count": 48,
   "id": "10fe7cf5-1c75-48ac-a2e5-2db2cc14ab08",
   "metadata": {},
   "outputs": [],
   "source": [
    "geo_df.drop(['time'], axis = 1, inplace = True)"
   ]
  },
  {
   "cell_type": "code",
   "execution_count": 49,
   "id": "97b4a9f7-7ed3-4a84-b734-282d3ef1ec27",
   "metadata": {},
   "outputs": [
    {
     "data": {
      "text/plain": [
       "135"
      ]
     },
     "execution_count": 49,
     "metadata": {},
     "output_type": "execute_result"
    }
   ],
   "source": [
    "len(geo_df.columns)"
   ]
  },
  {
   "cell_type": "code",
   "execution_count": 12,
   "id": "7ce58460-c458-4a77-aa60-1a15cbe6d414",
   "metadata": {},
   "outputs": [],
   "source": [
    "tr_df1 = tr_df\n",
    "\n",
    "sc1 = StandardScaler()\n",
    "\n",
    "X1 = tr_df1.iloc[:, [1,3,4,5,6,7,8,9,10]].to_numpy()\n",
    "X_norm1 = sc1.fit_transform(X1)\n",
    "y1 = tr_df1.iloc[:, 2].to_numpy()\n",
    "\n",
    "X_train1, X_test1, y_train1, y_test1 = train_test_split(X_norm1, y1, test_size=0.1, random_state=42, shuffle=True)\n",
    "\n",
    "X_train_t1 = torch.from_numpy(X_train1.astype(np.float32))\n",
    "X_test_t1 = torch.from_numpy(X_test1.astype(np.float32))\n",
    "\n",
    "y_train_t1 = torch.from_numpy(y_train1.astype(np.float32))\n",
    "y_train_t1 = y_train_t1.view(y_train_t1.shape[0], 1)\n",
    "y_test_t1 = torch.from_numpy(y_test1.astype(np.float32))\n",
    "y_test_t1 = y_test_t1.view(y_test_t1.shape[0], 1)"
   ]
  },
  {
   "cell_type": "code",
   "execution_count": 54,
   "id": "67b9e7e2-d15e-4907-988e-55a5b6e6250d",
   "metadata": {},
   "outputs": [],
   "source": [
    "sc = StandardScaler()\n",
    "\n",
    "X = geo_df.to_numpy()\n",
    "X_norm = sc.fit_transform(X)\n",
    "y = tr_df.iloc[:, 2].to_numpy()\n",
    "\n",
    "X_train, X_test, y_train, y_test = train_test_split(X_norm, y, test_size=0.1, random_state=42, shuffle=True)\n",
    "\n",
    "X_train_t = torch.from_numpy(X_train.astype(np.float32))\n",
    "X_test_t = torch.from_numpy(X_test.astype(np.float32))\n",
    "\n",
    "y_train_t = torch.from_numpy(y_train.astype(np.float32))\n",
    "y_train_t = y_train_t.view(y_train_t.shape[0], 1)\n",
    "y_test_t = torch.from_numpy(y_test.astype(np.float32))\n",
    "y_test_t = y_test_t.view(y_test_t.shape[0], 1)"
   ]
  },
  {
   "cell_type": "code",
   "execution_count": 70,
   "id": "55ea3c4c-3472-4e51-963e-74060034b766",
   "metadata": {},
   "outputs": [
    {
     "data": {
      "text/plain": [
       "torch.Size([716, 5])"
      ]
     },
     "execution_count": 70,
     "metadata": {},
     "output_type": "execute_result"
    }
   ],
   "source": [
    "X_train_t1.shape"
   ]
  },
  {
   "cell_type": "code",
   "execution_count": 71,
   "id": "483fd3a1-f37c-489f-bc22-a9ac727d461b",
   "metadata": {},
   "outputs": [
    {
     "data": {
      "text/plain": [
       "torch.Size([716, 1])"
      ]
     },
     "execution_count": 71,
     "metadata": {},
     "output_type": "execute_result"
    }
   ],
   "source": [
    "y_train_t1.shape"
   ]
  },
  {
   "cell_type": "code",
   "execution_count": 72,
   "id": "c5e3e206-e7d1-477f-84be-5097f20be452",
   "metadata": {},
   "outputs": [],
   "source": [
    "class ConsumptionDataset_train(Dataset):\n",
    "\n",
    "    def __init__(self, X_train_t, y_train_t):\n",
    "        # Initialize data, download, etc.\n",
    "        # read with numpy or pandas\n",
    "        self.x_data = X_train_t\n",
    "        self.y_data = y_train_t\n",
    "        self.n_samples = X_train_t.shape[0]\n",
    "\n",
    "    # support indexing such that dataset[i] can be used to get i-th sample\n",
    "    def __getitem__(self, index):\n",
    "        return self.x_data[index], self.y_data[index]\n",
    "\n",
    "    # we can call len(dataset) to return the size\n",
    "    def __len__(self):\n",
    "        return self.n_samples\n",
    "    "
   ]
  },
  {
   "cell_type": "code",
   "execution_count": 73,
   "id": "9651fe83-d172-427c-bcc9-a263c7abc0a9",
   "metadata": {},
   "outputs": [],
   "source": [
    "class RMSELoss(nn.Module):\n",
    "    def __init__(self, eps=1e-6):\n",
    "        super().__init__()\n",
    "        self.mse = nn.MSELoss()\n",
    "        self.eps = eps\n",
    "        \n",
    "    def forward(self,yhat,y):\n",
    "        loss = torch.sqrt(self.mse(yhat,y) + self.eps)\n",
    "        return loss"
   ]
  },
  {
   "cell_type": "code",
   "execution_count": 74,
   "id": "de891c68-d623-4502-8461-b381b1b42870",
   "metadata": {},
   "outputs": [],
   "source": [
    "n_input_features = X_train_t1.shape[1]"
   ]
  },
  {
   "cell_type": "code",
   "execution_count": 75,
   "id": "9c89fa95-5e1e-454f-a9ba-b1e48fb13320",
   "metadata": {},
   "outputs": [],
   "source": [
    "data_train = ConsumptionDataset_train(X_train_t1, y_train_t1)\n",
    "\n",
    "num_epochs = 200\n",
    "batch_size = 30\n",
    "\n",
    "train_loader = DataLoader(dataset=data_train,\n",
    "                          batch_size=batch_size)"
   ]
  },
  {
   "cell_type": "code",
   "execution_count": 76,
   "id": "bd83e4d2-b2ba-4f2b-aa76-99db63a0c894",
   "metadata": {},
   "outputs": [
    {
     "data": {
      "text/plain": [
       "5"
      ]
     },
     "execution_count": 76,
     "metadata": {},
     "output_type": "execute_result"
    }
   ],
   "source": [
    "n_input_features"
   ]
  },
  {
   "cell_type": "code",
   "execution_count": 95,
   "id": "32d565d6-402f-4c1d-99d3-ecf99a8e7bec",
   "metadata": {},
   "outputs": [],
   "source": [
    "class LinearRegression(nn.Module):\n",
    "    def __init__(self, n_input_features):\n",
    "        super(LinearRegression, self).__init__()\n",
    "        torch.manual_seed(0)\n",
    "        self.linear1 = nn.Linear(n_input_features, 3)\n",
    "        self.relu = nn.ReLU()\n",
    "        self.lrelu = nn.LeakyReLU()\n",
    "        self.tanh = nn.Tanh()\n",
    "        self.linear2 = nn.Linear(3,1)\n",
    "        #self.linear3 = nn.Linear(2,1)\n",
    "        #self.linear4 = nn.Linear(2,1)\n",
    "    def forward(self, x):\n",
    "        z1 = self.linear1(x)\n",
    "        a1 = self.relu(z1)\n",
    "        #z2 = self.linear2(a1)\n",
    "        #a2 = self.relu(z2)\n",
    "        #z3 = self.linear3(a2)\n",
    "        #a3 = self.relu(z3)\n",
    "        y_pred = self.linear2(a1)\n",
    "        return y_pred"
   ]
  },
  {
   "cell_type": "code",
   "execution_count": 96,
   "id": "6b611de8-c6e5-4cd6-a72c-1b6c84c9838e",
   "metadata": {},
   "outputs": [],
   "source": [
    "model = LinearRegression(n_input_features)\n",
    "\n",
    "learning_rate = 0.5\n",
    "criterion = RMSELoss()\n",
    "#criterion = nn.L1Loss()\n",
    "#optimizer = torch.optim.Adam(model.parameters(), lr=learning_rate)\n",
    "#scheduler = torch.optim.lr_scheduler.StepLR(optimizer, step_size= 3000, gamma = 0.1)\n",
    "optimizer = torch.optim.SGD(model.parameters(), lr=learning_rate)"
   ]
  },
  {
   "cell_type": "code",
   "execution_count": 97,
   "id": "71bac758-d02a-4f2c-b4e9-d5ecaeca58b4",
   "metadata": {
    "tags": []
   },
   "outputs": [],
   "source": [
    "train_rmse = []\n",
    "test_rmse = []\n",
    "\n",
    "best_valid_loss=float('inf')\n",
    "best_model = copy.deepcopy(model)\n",
    "\n",
    "n_total_steps = len(train_loader)\n",
    "for epoch in range(num_epochs):\n",
    "    for i, (X, y) in enumerate(train_loader):  \n",
    "        \n",
    "        # Forward pass\n",
    "        outputs = model(X)\n",
    "        loss = criterion(outputs, y)\n",
    "        \n",
    "        test_loss = criterion(model(X_test_t1),y_test_t1)\n",
    "        if test_loss < best_valid_loss:\n",
    "            best_model = copy.deepcopy(model)\n",
    "            best_valid_loss = test_loss\n",
    "        \n",
    "        # Backward and optimize\n",
    "        optimizer.zero_grad()\n",
    "        loss.backward()\n",
    "        optimizer.step()\n",
    "        \n",
    "        #if (i+1) % 30 == 0:\n",
    "           # print (f'Epoch [{epoch+1}/{num_epochs}], Step [{i+1}/{n_total_steps}], Loss: {loss.item():.4f}')\n",
    "            \n",
    "    train_rmse.append(loss.detach().numpy())\n",
    "    test_rmse.append(criterion(model(X_test_t1),y_test_t1).detach().numpy())"
   ]
  },
  {
   "cell_type": "code",
   "execution_count": 98,
   "id": "26567538-3829-4c56-a481-c4d0bf1ab416",
   "metadata": {},
   "outputs": [
    {
     "name": "stdout",
     "output_type": "stream",
     "text": [
      "94.45252\n"
     ]
    }
   ],
   "source": [
    "print(np.min(test_rmse))"
   ]
  },
  {
   "cell_type": "code",
   "execution_count": 99,
   "id": "478230b2-5c2e-4392-8f64-3b8008bf604f",
   "metadata": {},
   "outputs": [
    {
     "data": {
      "text/plain": [
       "[<matplotlib.lines.Line2D at 0x287fe0cd0>]"
      ]
     },
     "execution_count": 99,
     "metadata": {},
     "output_type": "execute_result"
    },
    {
     "data": {
      "image/png": "[encoded data removed]",
      "text/plain": [
       "<Figure size 864x720 with 1 Axes>"
      ]
     },
     "metadata": {
      "needs_background": "light"
     },
     "output_type": "display_data"
    }
   ],
   "source": [
    "plt.figure(figsize=(12,10))\n",
    "plt.plot(train_rmse)\n",
    "plt.plot(test_rmse)"
   ]
  },
  {
   "cell_type": "code",
   "execution_count": 96,
   "id": "a18467d2-f192-43a6-a404-9d95fb1073c3",
   "metadata": {},
   "outputs": [],
   "source": [
    "#torch.save(best_model.state_dict(), 'best_model.pt')"
   ]
  },
  {
   "cell_type": "markdown",
   "id": "e2cfb07d-984e-4f52-9201-195f8573a115",
   "metadata": {},
   "source": [
    "# KFold"
   ]
  },
  {
   "cell_type": "code",
   "execution_count": 44,
   "id": "1dfaf9f5-476a-40eb-8134-7bf5bf93d8ce",
   "metadata": {},
   "outputs": [],
   "source": [
    "from sklearn.model_selection import KFold"
   ]
  },
  {
   "cell_type": "code",
   "execution_count": 39,
   "id": "767192fd-207b-4ef3-8398-6418923c602a",
   "metadata": {},
   "outputs": [],
   "source": [
    "class RaiderDataset_train(Dataset):\n",
    "\n",
    "    def __init__(self, X_train_t, y_train_t):\n",
    "        # Initialize data, download, etc.\n",
    "        # read with numpy or pandas\n",
    "        self.x_data = X_train_t\n",
    "        self.y_data = y_train_t\n",
    "        self.n_samples = X_train_t.shape[0]\n",
    "\n",
    "    # support indexing such that dataset[i] can be used to get i-th sample\n",
    "    def __getitem__(self, index):\n",
    "        return self.x_data[index], self.y_data[index]\n",
    "\n",
    "    # we can call len(dataset) to return the size\n",
    "    def __len__(self):\n",
    "        return self.n_samples\n",
    "    "
   ]
  },
  {
   "cell_type": "code",
   "execution_count": 40,
   "id": "8bae25c0-6142-4a76-8641-27caea1a616c",
   "metadata": {},
   "outputs": [],
   "source": [
    "class RaiderDataset_test(Dataset):\n",
    "\n",
    "    def __init__(self, X_test_t, y_test_t):\n",
    "        # Initialize data, download, etc.\n",
    "        # read with numpy or pandas\n",
    "        self.x_data = X_train_t\n",
    "        self.y_data = y_train_t\n",
    "        self.n_samples = X_train_t.shape[0]\n",
    "\n",
    "    # support indexing such that dataset[i] can be used to get i-th sample\n",
    "    def __getitem__(self, index):\n",
    "        return self.x_data[index], self.y_data[index]\n",
    "\n",
    "    # we can call len(dataset) to return the size\n",
    "    def __len__(self):\n",
    "        return self.n_samples\n",
    "    "
   ]
  },
  {
   "cell_type": "code",
   "execution_count": 32,
   "id": "1ff12144-8196-4bd1-bc94-ac105fe35b81",
   "metadata": {},
   "outputs": [],
   "source": [
    "class LinearRegression(nn.Module):\n",
    "    def __init__(self, n_input_features):\n",
    "        super(LinearRegression, self).__init__()\n",
    "        torch.manual_seed(0)\n",
    "        self.linear1 = nn.Linear(n_input_features, 5)\n",
    "        self.relu = nn.ReLU()\n",
    "        self.lrelu = nn.LeakyReLU()\n",
    "        self.tanh = nn.Tanh()\n",
    "        self.linear2 = nn.Linear(5,4)\n",
    "        self.linear3 = nn.Linear(4,2)\n",
    "        self.linear4 = nn.Linear(2,1)\n",
    "    def forward(self, x):\n",
    "        z1 = self.linear1(x)\n",
    "        a1 = self.tanh(z1)\n",
    "        z2 = self.linear2(a1)\n",
    "        a2 = self.relu(z2)\n",
    "        z3 = self.linear3(a2)\n",
    "        a3 = self.relu(z3)\n",
    "        y_pred = self.linear4(a3)\n",
    "        return y_pred"
   ]
  },
  {
   "cell_type": "code",
   "execution_count": 47,
   "id": "3729ddfa-6201-4b3a-afd0-e6ad3310a5fd",
   "metadata": {},
   "outputs": [],
   "source": [
    "dataset_train_part = RaiderDataset_train(X_train_t, y_train_t)\n",
    "dataset_test_part = RaiderDataset_test(X_test_t, y_test_t)\n",
    "\n",
    "dataset = ConcatDataset([dataset_train_part, dataset_test_part])"
   ]
  },
  {
   "cell_type": "code",
   "execution_count": 48,
   "id": "bce4d122-9f10-4433-9ed3-ca8f08e2ee58",
   "metadata": {},
   "outputs": [],
   "source": [
    "k_folds = 5\n",
    "\n",
    "kfold = KFold(n_splits=k_folds, shuffle=True)"
   ]
  },
  {
   "cell_type": "code",
   "execution_count": null,
   "id": "064e6830-d4e6-41af-a47e-3b1192dde2ac",
   "metadata": {},
   "outputs": [],
   "source": []
  },
  {
   "cell_type": "code",
   "execution_count": 51,
   "id": "15d461a1-9285-4eb3-8410-bab6ee6c9e04",
   "metadata": {},
   "outputs": [
    {
     "name": "stdout",
     "output_type": "stream",
     "text": [
      "FOLD 0\n",
      "--------------------------------\n",
      "FOLD 1\n",
      "--------------------------------\n",
      "FOLD 2\n",
      "--------------------------------\n",
      "FOLD 3\n",
      "--------------------------------\n",
      "FOLD 4\n",
      "--------------------------------\n"
     ]
    }
   ],
   "source": [
    "num_epochs = 200\n",
    "\n",
    "train_batch_size = 30\n",
    "test_batch_size = y_test_t.shape[0]\n",
    "\n",
    "all_loss = []\n",
    "\n",
    "for fold, (train_ids, test_ids) in enumerate(kfold.split(dataset)):\n",
    "    \n",
    "    # Print\n",
    "    print(f'FOLD {fold}')\n",
    "    print('--------------------------------')\n",
    "    \n",
    "    # Sample elements randomly from a given list of ids, no replacement.\n",
    "    train_subsampler = SubsetRandomSampler(train_ids)\n",
    "    test_subsampler = SubsetRandomSampler(test_ids)\n",
    "    \n",
    "    # Define data loaders for training and testing data in this fold\n",
    "    trainloader = DataLoader(\n",
    "                      dataset, \n",
    "                      batch_size=train_batch_size, sampler=train_subsampler)\n",
    "    testloader = DataLoader(\n",
    "                      dataset,\n",
    "                      batch_size=test_batch_size, sampler=test_subsampler)\n",
    "    \n",
    "    # Init the neural network\n",
    "    model = LinearRegression(n_input_features)\n",
    "    \n",
    "    \n",
    "    # Initialize optimizer\n",
    "    learning_rate = 0.001\n",
    "    criterion = RMSELoss()\n",
    "    optimizer = torch.optim.Adam(model.parameters(), lr=learning_rate)\n",
    "    \n",
    "    \n",
    "    best_valid_loss=float('inf')\n",
    "    #best_model = copy.deepcopy(model)\n",
    "    # Run the training loop for defined number of epochs\n",
    "    for epoch in range(0, num_epochs):\n",
    "\n",
    "        for i, (X,y) in enumerate(trainloader, 0):\n",
    "    \n",
    "            # Forward pass\n",
    "            outputs = model(X)\n",
    "            loss = criterion(outputs, y)\n",
    "            \n",
    "            test_loss = criterion(model(X_test_t),y_test_t)\n",
    "            if test_loss < best_valid_loss:\n",
    "                #best_model = copy.deepcopy(model)\n",
    "                best_valid_loss = test_loss\n",
    "            \n",
    "            # Backward and optimize\n",
    "            optimizer.zero_grad()\n",
    "            loss.backward()\n",
    "            optimizer.step()\n",
    "            \n",
    "            #if (i+1) % 30 == 0:\n",
    "               # print (f'Epoch [{epoch+1}/{num_epochs}], Step [{i+1}/{n_total_steps}], Loss: {loss.item():.4f}')\n",
    "            \n",
    "    all_loss.append(best_valid_loss.detach().numpy())\n",
    "        \n",
    "\n",
    "        \n",
    "        \n"
   ]
  },
  {
   "cell_type": "code",
   "execution_count": 52,
   "id": "6b9c5374-d20c-4659-aab5-f9c355c325ba",
   "metadata": {},
   "outputs": [
    {
     "data": {
      "text/plain": [
       "85.25573"
      ]
     },
     "execution_count": 52,
     "metadata": {},
     "output_type": "execute_result"
    }
   ],
   "source": [
    "np.mean(all_loss)"
   ]
  },
  {
   "cell_type": "code",
   "execution_count": null,
   "id": "1b9450ce-1832-4e13-9060-4e4844ed848e",
   "metadata": {},
   "outputs": [],
   "source": []
  },
  {
   "cell_type": "markdown",
   "id": "61e88dea-6145-4e33-8bbb-8e6ac77cf314",
   "metadata": {},
   "source": [
    "# Simple Linear"
   ]
  },
  {
   "cell_type": "code",
   "execution_count": 13,
   "id": "310c55c4-d12e-42ea-8bcd-de84a98c5d02",
   "metadata": {},
   "outputs": [],
   "source": [
    "import statsmodels.api as sm"
   ]
  },
  {
   "cell_type": "code",
   "execution_count": 75,
   "id": "ef79f547-7fd2-4617-9188-832a51945f30",
   "metadata": {},
   "outputs": [
    {
     "data": {
      "text/html": [
       "<div>\n",
       "<style scoped>\n",
       "    .dataframe tbody tr th:only-of-type {\n",
       "        vertical-align: middle;\n",
       "    }\n",
       "\n",
       "    .dataframe tbody tr th {\n",
       "        vertical-align: top;\n",
       "    }\n",
       "\n",
       "    .dataframe thead th {\n",
       "        text-align: right;\n",
       "    }\n",
       "</style>\n",
       "<table border=\"1\" class=\"dataframe\">\n",
       "  <thead>\n",
       "    <tr style=\"text-align: right;\">\n",
       "      <th></th>\n",
       "      <th>hours</th>\n",
       "      <th>sym_hours_periods</th>\n",
       "      <th>diff_nodes</th>\n",
       "      <th>timeg</th>\n",
       "    </tr>\n",
       "  </thead>\n",
       "  <tbody>\n",
       "    <tr>\n",
       "      <th>0</th>\n",
       "      <td>18</td>\n",
       "      <td>5</td>\n",
       "      <td>2</td>\n",
       "      <td>480.436353</td>\n",
       "    </tr>\n",
       "    <tr>\n",
       "      <th>1</th>\n",
       "      <td>6</td>\n",
       "      <td>6</td>\n",
       "      <td>2</td>\n",
       "      <td>410.399349</td>\n",
       "    </tr>\n",
       "    <tr>\n",
       "      <th>2</th>\n",
       "      <td>10</td>\n",
       "      <td>2</td>\n",
       "      <td>5</td>\n",
       "      <td>617.099777</td>\n",
       "    </tr>\n",
       "    <tr>\n",
       "      <th>3</th>\n",
       "      <td>14</td>\n",
       "      <td>1</td>\n",
       "      <td>2</td>\n",
       "      <td>359.342168</td>\n",
       "    </tr>\n",
       "    <tr>\n",
       "      <th>4</th>\n",
       "      <td>11</td>\n",
       "      <td>1</td>\n",
       "      <td>1</td>\n",
       "      <td>380.581220</td>\n",
       "    </tr>\n",
       "    <tr>\n",
       "      <th>...</th>\n",
       "      <td>...</td>\n",
       "      <td>...</td>\n",
       "      <td>...</td>\n",
       "      <td>...</td>\n",
       "    </tr>\n",
       "    <tr>\n",
       "      <th>4995</th>\n",
       "      <td>21</td>\n",
       "      <td>8</td>\n",
       "      <td>2</td>\n",
       "      <td>779.069600</td>\n",
       "    </tr>\n",
       "    <tr>\n",
       "      <th>4996</th>\n",
       "      <td>15</td>\n",
       "      <td>2</td>\n",
       "      <td>1</td>\n",
       "      <td>330.333166</td>\n",
       "    </tr>\n",
       "    <tr>\n",
       "      <th>4997</th>\n",
       "      <td>13</td>\n",
       "      <td>0</td>\n",
       "      <td>2</td>\n",
       "      <td>311.627834</td>\n",
       "    </tr>\n",
       "    <tr>\n",
       "      <th>4998</th>\n",
       "      <td>8</td>\n",
       "      <td>4</td>\n",
       "      <td>2</td>\n",
       "      <td>377.087898</td>\n",
       "    </tr>\n",
       "    <tr>\n",
       "      <th>4999</th>\n",
       "      <td>14</td>\n",
       "      <td>1</td>\n",
       "      <td>3</td>\n",
       "      <td>374.013973</td>\n",
       "    </tr>\n",
       "  </tbody>\n",
       "</table>\n",
       "<p>5000 rows × 4 columns</p>\n",
       "</div>"
      ],
      "text/plain": [
       "      hours  sym_hours_periods  diff_nodes       timeg\n",
       "0        18                  5           2  480.436353\n",
       "1         6                  6           2  410.399349\n",
       "2        10                  2           5  617.099777\n",
       "3        14                  1           2  359.342168\n",
       "4        11                  1           1  380.581220\n",
       "...     ...                ...         ...         ...\n",
       "4995     21                  8           2  779.069600\n",
       "4996     15                  2           1  330.333166\n",
       "4997     13                  0           2  311.627834\n",
       "4998      8                  4           2  377.087898\n",
       "4999     14                  1           3  374.013973\n",
       "\n",
       "[5000 rows x 4 columns]"
      ]
     },
     "execution_count": 75,
     "metadata": {},
     "output_type": "execute_result"
    }
   ],
   "source": [
    "tr_df.iloc[:, [3,4,8,10]]"
   ]
  },
  {
   "cell_type": "code",
   "execution_count": 83,
   "id": "a47f4c24-8f0c-471e-b74a-a5b895b27331",
   "metadata": {},
   "outputs": [],
   "source": [
    "tr_df1 = tr_df\n",
    "\n",
    "sc1 = StandardScaler()\n",
    "\n",
    "X1 = tr_df1.iloc[:, [3,4,8,10]].to_numpy()\n",
    "X_norm1 = sc1.fit_transform(X1)\n",
    "y1 = tr_df1.iloc[:, 2].to_numpy()\n",
    "\n",
    "X_train1, X_test1, y_train1, y_test1 = train_test_split(X_norm1, y1, test_size=0.1, random_state=1, shuffle=True)\n",
    "\n",
    "X_train_t1 = torch.from_numpy(X_train1.astype(np.float32))\n",
    "X_test_t1 = torch.from_numpy(X_test1.astype(np.float32))\n",
    "\n",
    "y_train_t1 = torch.from_numpy(y_train1.astype(np.float32))\n",
    "y_train_t1 = y_train_t1.view(y_train_t1.shape[0], 1)\n",
    "y_test_t1 = torch.from_numpy(y_test1.astype(np.float32))\n",
    "y_test_t1 = y_test_t1.view(y_test_t1.shape[0], 1)"
   ]
  },
  {
   "cell_type": "code",
   "execution_count": 84,
   "id": "0be708aa-677a-4ce5-883e-a7ee70694d01",
   "metadata": {},
   "outputs": [],
   "source": [
    "X_1 = sm.add_constant(X_train1)\n",
    "model = sm.OLS(y_train1, X_1).fit()"
   ]
  },
  {
   "cell_type": "code",
   "execution_count": 85,
   "id": "3613cd3d-4697-4e9e-9802-f55fadd7e138",
   "metadata": {},
   "outputs": [
    {
     "data": {
      "text/plain": [
       "(716, 5)"
      ]
     },
     "execution_count": 85,
     "metadata": {},
     "output_type": "execute_result"
    }
   ],
   "source": [
    "X_1.shape"
   ]
  },
  {
   "cell_type": "code",
   "execution_count": 86,
   "id": "588754e8-719e-4189-bb83-bb0cf5b3cc5a",
   "metadata": {},
   "outputs": [
    {
     "data": {
      "text/html": [
       "<table class=\"simpletable\">\n",
       "<caption>OLS Regression Results</caption>\n",
       "<tr>\n",
       "  <th>Dep. Variable:</th>            <td>y</td>        <th>  R-squared:         </th> <td>   0.772</td> \n",
       "</tr>\n",
       "<tr>\n",
       "  <th>Model:</th>                   <td>OLS</td>       <th>  Adj. R-squared:    </th> <td>   0.771</td> \n",
       "</tr>\n",
       "<tr>\n",
       "  <th>Method:</th>             <td>Least Squares</td>  <th>  F-statistic:       </th> <td>   602.4</td> \n",
       "</tr>\n",
       "<tr>\n",
       "  <th>Date:</th>             <td>Sun, 05 Mar 2023</td> <th>  Prob (F-statistic):</th> <td>1.18e-226</td>\n",
       "</tr>\n",
       "<tr>\n",
       "  <th>Time:</th>                 <td>08:26:43</td>     <th>  Log-Likelihood:    </th> <td> -4327.0</td> \n",
       "</tr>\n",
       "<tr>\n",
       "  <th>No. Observations:</th>      <td>   716</td>      <th>  AIC:               </th> <td>   8664.</td> \n",
       "</tr>\n",
       "<tr>\n",
       "  <th>Df Residuals:</th>          <td>   711</td>      <th>  BIC:               </th> <td>   8687.</td> \n",
       "</tr>\n",
       "<tr>\n",
       "  <th>Df Model:</th>              <td>     4</td>      <th>                     </th>     <td> </td>    \n",
       "</tr>\n",
       "<tr>\n",
       "  <th>Covariance Type:</th>      <td>nonrobust</td>    <th>                     </th>     <td> </td>    \n",
       "</tr>\n",
       "</table>\n",
       "<table class=\"simpletable\">\n",
       "<tr>\n",
       "    <td></td>       <th>coef</th>     <th>std err</th>      <th>t</th>      <th>P>|t|</th>  <th>[0.025</th>    <th>0.975]</th>  \n",
       "</tr>\n",
       "<tr>\n",
       "  <th>const</th> <td>  537.2449</td> <td>    3.824</td> <td>  140.495</td> <td> 0.000</td> <td>  529.737</td> <td>  544.752</td>\n",
       "</tr>\n",
       "<tr>\n",
       "  <th>x1</th>    <td>   -9.8489</td> <td>    3.905</td> <td>   -2.522</td> <td> 0.012</td> <td>  -17.516</td> <td>   -2.182</td>\n",
       "</tr>\n",
       "<tr>\n",
       "  <th>x2</th>    <td>  -28.7211</td> <td>    3.838</td> <td>   -7.483</td> <td> 0.000</td> <td>  -36.257</td> <td>  -21.185</td>\n",
       "</tr>\n",
       "<tr>\n",
       "  <th>x3</th>    <td>   29.4490</td> <td>    4.315</td> <td>    6.824</td> <td> 0.000</td> <td>   20.976</td> <td>   37.922</td>\n",
       "</tr>\n",
       "<tr>\n",
       "  <th>x4</th>    <td>  170.7189</td> <td>    4.424</td> <td>   38.593</td> <td> 0.000</td> <td>  162.034</td> <td>  179.404</td>\n",
       "</tr>\n",
       "</table>\n",
       "<table class=\"simpletable\">\n",
       "<tr>\n",
       "  <th>Omnibus:</th>       <td>153.130</td> <th>  Durbin-Watson:     </th> <td>   2.023</td>\n",
       "</tr>\n",
       "<tr>\n",
       "  <th>Prob(Omnibus):</th> <td> 0.000</td>  <th>  Jarque-Bera (JB):  </th> <td> 344.739</td>\n",
       "</tr>\n",
       "<tr>\n",
       "  <th>Skew:</th>          <td> 1.146</td>  <th>  Prob(JB):          </th> <td>1.38e-75</td>\n",
       "</tr>\n",
       "<tr>\n",
       "  <th>Kurtosis:</th>      <td> 5.510</td>  <th>  Cond. No.          </th> <td>    1.72</td>\n",
       "</tr>\n",
       "</table><br/><br/>Notes:<br/>[1] Standard Errors assume that the covariance matrix of the errors is correctly specified."
      ],
      "text/plain": [
       "<class 'statsmodels.iolib.summary.Summary'>\n",
       "\"\"\"\n",
       "                            OLS Regression Results                            \n",
       "==============================================================================\n",
       "Dep. Variable:                      y   R-squared:                       0.772\n",
       "Model:                            OLS   Adj. R-squared:                  0.771\n",
       "Method:                 Least Squares   F-statistic:                     602.4\n",
       "Date:                Sun, 05 Mar 2023   Prob (F-statistic):          1.18e-226\n",
       "Time:                        08:26:43   Log-Likelihood:                -4327.0\n",
       "No. Observations:                 716   AIC:                             8664.\n",
       "Df Residuals:                     711   BIC:                             8687.\n",
       "Df Model:                           4                                         \n",
       "Covariance Type:            nonrobust                                         \n",
       "==============================================================================\n",
       "                 coef    std err          t      P>|t|      [0.025      0.975]\n",
       "------------------------------------------------------------------------------\n",
       "const        537.2449      3.824    140.495      0.000     529.737     544.752\n",
       "x1            -9.8489      3.905     -2.522      0.012     -17.516      -2.182\n",
       "x2           -28.7211      3.838     -7.483      0.000     -36.257     -21.185\n",
       "x3            29.4490      4.315      6.824      0.000      20.976      37.922\n",
       "x4           170.7189      4.424     38.593      0.000     162.034     179.404\n",
       "==============================================================================\n",
       "Omnibus:                      153.130   Durbin-Watson:                   2.023\n",
       "Prob(Omnibus):                  0.000   Jarque-Bera (JB):              344.739\n",
       "Skew:                           1.146   Prob(JB):                     1.38e-75\n",
       "Kurtosis:                       5.510   Cond. No.                         1.72\n",
       "==============================================================================\n",
       "\n",
       "Notes:\n",
       "[1] Standard Errors assume that the covariance matrix of the errors is correctly specified.\n",
       "\"\"\""
      ]
     },
     "execution_count": 86,
     "metadata": {},
     "output_type": "execute_result"
    }
   ],
   "source": [
    "model.summary()"
   ]
  },
  {
   "cell_type": "code",
   "execution_count": 87,
   "id": "6d086242-9fb5-49f4-ab57-c1f95921f348",
   "metadata": {},
   "outputs": [],
   "source": [
    "from statsmodels.tools.eval_measures import rmse\n",
    "\n",
    "X_t = sm.add_constant(X_test1)\n",
    "ypred = model.predict(X_t)\n",
    "\n",
    "# calc rmse\n",
    "RMSE = rmse(y_test1, ypred)"
   ]
  },
  {
   "cell_type": "code",
   "execution_count": 88,
   "id": "a3e86490-2450-4ec4-9cfb-9a3c177b5248",
   "metadata": {},
   "outputs": [
    {
     "data": {
      "text/plain": [
       "90.59967925625763"
      ]
     },
     "execution_count": 88,
     "metadata": {},
     "output_type": "execute_result"
    }
   ],
   "source": [
    "RMSE"
   ]
  },
  {
   "cell_type": "code",
   "execution_count": 60,
   "id": "8e121a40-27bb-4e91-86f5-eef64c6bb25e",
   "metadata": {},
   "outputs": [],
   "source": [
    "from sklearn.linear_model import LinearRegression"
   ]
  },
  {
   "cell_type": "code",
   "execution_count": 61,
   "id": "ad1bc7a0-4f99-4b20-b37d-00e7f18fdd97",
   "metadata": {},
   "outputs": [],
   "source": [
    "reg = LinearRegression().fit(X_1, y_train1)"
   ]
  },
  {
   "cell_type": "code",
   "execution_count": 62,
   "id": "e638efb3-ba52-4b97-aad2-9d35de15f211",
   "metadata": {},
   "outputs": [
    {
     "data": {
      "text/plain": [
       "(80, 6)"
      ]
     },
     "execution_count": 62,
     "metadata": {},
     "output_type": "execute_result"
    }
   ],
   "source": [
    "X_t.shape"
   ]
  },
  {
   "cell_type": "code",
   "execution_count": 63,
   "id": "8c3a6993-156b-4c23-baec-1f48b4238e1a",
   "metadata": {},
   "outputs": [],
   "source": [
    "#X_t = sm.add_constant(X_test1)\n",
    "ypred = reg.predict(X_t)"
   ]
  },
  {
   "cell_type": "code",
   "execution_count": 121,
   "id": "772430bf-4f51-4964-8eec-2ee6def4e99e",
   "metadata": {},
   "outputs": [],
   "source": [
    "RMSE = rmse(y_test1, ypred)"
   ]
  },
  {
   "cell_type": "code",
   "execution_count": 122,
   "id": "ebfc0ba7-7e99-40e4-97e7-044322376c57",
   "metadata": {},
   "outputs": [
    {
     "data": {
      "text/plain": [
       "91.70636411394243"
      ]
     },
     "execution_count": 122,
     "metadata": {},
     "output_type": "execute_result"
    }
   ],
   "source": [
    "RMSE"
   ]
  }
 ],
 "metadata": {
  "kernelspec": {
   "display_name": "torch",
   "language": "python",
   "name": "torch"
  },
  "language_info": {
   "codemirror_mode": {
    "name": "ipython",
    "version": 3
   },
   "file_extension": ".py",
   "mimetype": "text/x-python",
   "name": "python",
   "nbconvert_exporter": "python",
   "pygments_lexer": "ipython3",
   "version": "3.9.12"
  }
 },
 "nbformat": 4,
 "nbformat_minor": 5
}
